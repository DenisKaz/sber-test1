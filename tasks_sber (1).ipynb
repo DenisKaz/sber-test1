{
  "nbformat": 4,
  "nbformat_minor": 0,
  "metadata": {
    "colab": {
      "name": "tasks sber.ipynb",
      "version": "0.3.2",
      "provenance": [],
      "collapsed_sections": [],
      "toc_visible": true
    },
    "kernelspec": {
      "name": "python3",
      "display_name": "Python 3"
    }
  },
  "cells": [
    {
      "metadata": {
        "id": "eAXfeoqjn7W2",
        "colab_type": "text"
      },
      "cell_type": "markdown",
      "source": [
        "### 1. Что выведет эта программа?\n",
        "\n",
        "```\n",
        "x = 3\n",
        "y = 1\n",
        "while x>0:\n",
        "    y += x\n",
        "    x -= 2\n",
        "print(y)\n",
        "```"
      ]
    },
    {
      "metadata": {
        "id": "_TCPQ0mdpN3u",
        "colab_type": "text"
      },
      "cell_type": "markdown",
      "source": [
        "```x=3>0```  , поэтому входим в цикл\n",
        "  \n",
        "```\n",
        "y = 1+3 = 4\n",
        "x = 3-2 = 1\n",
        "1 > 0 \n",
        "y = 4+1 = 5\n",
        "x = 1-2 = -1\n",
        "-1 < 0\n",
        "```\n",
        "только две итерации, в итоге  \n",
        "### y=5"
      ]
    },
    {
      "metadata": {
        "id": "ddb7GU8rJXaa",
        "colab_type": "text"
      },
      "cell_type": "markdown",
      "source": [
        "Проверим"
      ]
    },
    {
      "metadata": {
        "id": "Kk1rnLwLqLY8",
        "colab_type": "code",
        "outputId": "7ccb95d7-acf2-4192-f915-68b2a8e6193e",
        "colab": {
          "base_uri": "https://localhost:8080/",
          "height": 34
        }
      },
      "cell_type": "code",
      "source": [
        "x = 3\n",
        "y = 1\n",
        "while x>0:\n",
        "  y += x\n",
        "  x -= 2\n",
        "print(y)"
      ],
      "execution_count": 1,
      "outputs": [
        {
          "output_type": "stream",
          "text": [
            "5\n"
          ],
          "name": "stdout"
        }
      ]
    },
    {
      "metadata": {
        "id": "hN_CouYVqZqJ",
        "colab_type": "text"
      },
      "cell_type": "markdown",
      "source": [
        "###2. Найти вторую самую большую зп из таблицы Employee "
      ]
    },
    {
      "metadata": {
        "id": "L3nK-EfNsUIJ",
        "colab_type": "code",
        "colab": {}
      },
      "cell_type": "code",
      "source": [
        "import pandas as pd\n",
        "import numpy as np\n",
        "import datetime\n",
        "import re"
      ],
      "execution_count": 0,
      "outputs": []
    },
    {
      "metadata": {
        "id": "EN9-wlWarqvE",
        "colab_type": "code",
        "outputId": "b00bce65-6fbf-4aad-c5a2-3f1d8cee9786",
        "colab": {
          "base_uri": "https://localhost:8080/",
          "height": 167
        }
      },
      "cell_type": "code",
      "source": [
        "d = {'emp_id':pd.Series([1, 2, 3, 4]), 'emp_name':pd.Series(['Петр', 'Иван', 'Алексей', 'Михаил']), \\\n",
        "     'dept_id':pd.Series(['10', '10', '11', '11']), 'salary':pd.Series([2000, 4000, 6000, 8000])}\n",
        "Employee = pd.DataFrame(d)\n",
        "Employee.head()"
      ],
      "execution_count": 3,
      "outputs": [
        {
          "output_type": "execute_result",
          "data": {
            "text/html": [
              "<div>\n",
              "<style scoped>\n",
              "    .dataframe tbody tr th:only-of-type {\n",
              "        vertical-align: middle;\n",
              "    }\n",
              "\n",
              "    .dataframe tbody tr th {\n",
              "        vertical-align: top;\n",
              "    }\n",
              "\n",
              "    .dataframe thead th {\n",
              "        text-align: right;\n",
              "    }\n",
              "</style>\n",
              "<table border=\"1\" class=\"dataframe\">\n",
              "  <thead>\n",
              "    <tr style=\"text-align: right;\">\n",
              "      <th></th>\n",
              "      <th>dept_id</th>\n",
              "      <th>emp_id</th>\n",
              "      <th>emp_name</th>\n",
              "      <th>salary</th>\n",
              "    </tr>\n",
              "  </thead>\n",
              "  <tbody>\n",
              "    <tr>\n",
              "      <th>0</th>\n",
              "      <td>10</td>\n",
              "      <td>1</td>\n",
              "      <td>Петр</td>\n",
              "      <td>2000</td>\n",
              "    </tr>\n",
              "    <tr>\n",
              "      <th>1</th>\n",
              "      <td>10</td>\n",
              "      <td>2</td>\n",
              "      <td>Иван</td>\n",
              "      <td>4000</td>\n",
              "    </tr>\n",
              "    <tr>\n",
              "      <th>2</th>\n",
              "      <td>11</td>\n",
              "      <td>3</td>\n",
              "      <td>Алексей</td>\n",
              "      <td>6000</td>\n",
              "    </tr>\n",
              "    <tr>\n",
              "      <th>3</th>\n",
              "      <td>11</td>\n",
              "      <td>4</td>\n",
              "      <td>Михаил</td>\n",
              "      <td>8000</td>\n",
              "    </tr>\n",
              "  </tbody>\n",
              "</table>\n",
              "</div>"
            ],
            "text/plain": [
              "  dept_id  emp_id emp_name  salary\n",
              "0      10       1     Петр    2000\n",
              "1      10       2     Иван    4000\n",
              "2      11       3  Алексей    6000\n",
              "3      11       4   Михаил    8000"
            ]
          },
          "metadata": {
            "tags": []
          },
          "execution_count": 3
        }
      ]
    },
    {
      "metadata": {
        "id": "DqXJ0ItOsbrH",
        "colab_type": "code",
        "outputId": "fc79c378-9df0-45e2-de06-d139f344e1e1",
        "colab": {
          "base_uri": "https://localhost:8080/",
          "height": 34
        }
      },
      "cell_type": "code",
      "source": [
        "Employee.sort_values(by='salary', ascending=False)['salary'].iloc[1]"
      ],
      "execution_count": 4,
      "outputs": [
        {
          "output_type": "execute_result",
          "data": {
            "text/plain": [
              "6000"
            ]
          },
          "metadata": {
            "tags": []
          },
          "execution_count": 4
        }
      ]
    },
    {
      "metadata": {
        "id": "XDmJ7iJ7xFk5",
        "colab_type": "text"
      },
      "cell_type": "markdown",
      "source": [
        "###3. Найти самые большие ЗП в каждом отделе + название отдела из таблицы с подразделениями Employee, Depart"
      ]
    },
    {
      "metadata": {
        "id": "I5JpP5vwyp0J",
        "colab_type": "code",
        "outputId": "54945e70-55e2-473f-e640-edb5a3895c09",
        "colab": {
          "base_uri": "https://localhost:8080/",
          "height": 107
        }
      },
      "cell_type": "code",
      "source": [
        "dd = {'Depart_id':pd.Series(['10', '11']), 'Depart_name':pd.Series(['Отдел снабжения', 'Отдел сбыта'])}\n",
        "Depart = pd.DataFrame(dd)\n",
        "Depart"
      ],
      "execution_count": 5,
      "outputs": [
        {
          "output_type": "execute_result",
          "data": {
            "text/html": [
              "<div>\n",
              "<style scoped>\n",
              "    .dataframe tbody tr th:only-of-type {\n",
              "        vertical-align: middle;\n",
              "    }\n",
              "\n",
              "    .dataframe tbody tr th {\n",
              "        vertical-align: top;\n",
              "    }\n",
              "\n",
              "    .dataframe thead th {\n",
              "        text-align: right;\n",
              "    }\n",
              "</style>\n",
              "<table border=\"1\" class=\"dataframe\">\n",
              "  <thead>\n",
              "    <tr style=\"text-align: right;\">\n",
              "      <th></th>\n",
              "      <th>Depart_id</th>\n",
              "      <th>Depart_name</th>\n",
              "    </tr>\n",
              "  </thead>\n",
              "  <tbody>\n",
              "    <tr>\n",
              "      <th>0</th>\n",
              "      <td>10</td>\n",
              "      <td>Отдел снабжения</td>\n",
              "    </tr>\n",
              "    <tr>\n",
              "      <th>1</th>\n",
              "      <td>11</td>\n",
              "      <td>Отдел сбыта</td>\n",
              "    </tr>\n",
              "  </tbody>\n",
              "</table>\n",
              "</div>"
            ],
            "text/plain": [
              "  Depart_id      Depart_name\n",
              "0        10  Отдел снабжения\n",
              "1        11      Отдел сбыта"
            ]
          },
          "metadata": {
            "tags": []
          },
          "execution_count": 5
        }
      ]
    },
    {
      "metadata": {
        "id": "SKUNrp9_zE2B",
        "colab_type": "code",
        "outputId": "359c4e40-931d-4196-832c-42fb7d1cd8d3",
        "colab": {
          "base_uri": "https://localhost:8080/",
          "height": 107
        }
      },
      "cell_type": "code",
      "source": [
        "new_columns = Depart.columns.values\n",
        "new_columns[0] = 'dept_id'\n",
        "Depart.columns = new_columns\n",
        "Depart"
      ],
      "execution_count": 6,
      "outputs": [
        {
          "output_type": "execute_result",
          "data": {
            "text/html": [
              "<div>\n",
              "<style scoped>\n",
              "    .dataframe tbody tr th:only-of-type {\n",
              "        vertical-align: middle;\n",
              "    }\n",
              "\n",
              "    .dataframe tbody tr th {\n",
              "        vertical-align: top;\n",
              "    }\n",
              "\n",
              "    .dataframe thead th {\n",
              "        text-align: right;\n",
              "    }\n",
              "</style>\n",
              "<table border=\"1\" class=\"dataframe\">\n",
              "  <thead>\n",
              "    <tr style=\"text-align: right;\">\n",
              "      <th></th>\n",
              "      <th>dept_id</th>\n",
              "      <th>Depart_name</th>\n",
              "    </tr>\n",
              "  </thead>\n",
              "  <tbody>\n",
              "    <tr>\n",
              "      <th>0</th>\n",
              "      <td>10</td>\n",
              "      <td>Отдел снабжения</td>\n",
              "    </tr>\n",
              "    <tr>\n",
              "      <th>1</th>\n",
              "      <td>11</td>\n",
              "      <td>Отдел сбыта</td>\n",
              "    </tr>\n",
              "  </tbody>\n",
              "</table>\n",
              "</div>"
            ],
            "text/plain": [
              "  dept_id      Depart_name\n",
              "0      10  Отдел снабжения\n",
              "1      11      Отдел сбыта"
            ]
          },
          "metadata": {
            "tags": []
          },
          "execution_count": 6
        }
      ]
    },
    {
      "metadata": {
        "id": "_ch2cRoAzwGD",
        "colab_type": "code",
        "outputId": "ffe1665c-4aba-446a-f052-3ac5e8fe6a80",
        "colab": {
          "base_uri": "https://localhost:8080/",
          "height": 167
        }
      },
      "cell_type": "code",
      "source": [
        "workers = pd.merge(Employee, Depart, on='dept_id')\n",
        "workers"
      ],
      "execution_count": 7,
      "outputs": [
        {
          "output_type": "execute_result",
          "data": {
            "text/html": [
              "<div>\n",
              "<style scoped>\n",
              "    .dataframe tbody tr th:only-of-type {\n",
              "        vertical-align: middle;\n",
              "    }\n",
              "\n",
              "    .dataframe tbody tr th {\n",
              "        vertical-align: top;\n",
              "    }\n",
              "\n",
              "    .dataframe thead th {\n",
              "        text-align: right;\n",
              "    }\n",
              "</style>\n",
              "<table border=\"1\" class=\"dataframe\">\n",
              "  <thead>\n",
              "    <tr style=\"text-align: right;\">\n",
              "      <th></th>\n",
              "      <th>dept_id</th>\n",
              "      <th>emp_id</th>\n",
              "      <th>emp_name</th>\n",
              "      <th>salary</th>\n",
              "      <th>Depart_name</th>\n",
              "    </tr>\n",
              "  </thead>\n",
              "  <tbody>\n",
              "    <tr>\n",
              "      <th>0</th>\n",
              "      <td>10</td>\n",
              "      <td>1</td>\n",
              "      <td>Петр</td>\n",
              "      <td>2000</td>\n",
              "      <td>Отдел снабжения</td>\n",
              "    </tr>\n",
              "    <tr>\n",
              "      <th>1</th>\n",
              "      <td>10</td>\n",
              "      <td>2</td>\n",
              "      <td>Иван</td>\n",
              "      <td>4000</td>\n",
              "      <td>Отдел снабжения</td>\n",
              "    </tr>\n",
              "    <tr>\n",
              "      <th>2</th>\n",
              "      <td>11</td>\n",
              "      <td>3</td>\n",
              "      <td>Алексей</td>\n",
              "      <td>6000</td>\n",
              "      <td>Отдел сбыта</td>\n",
              "    </tr>\n",
              "    <tr>\n",
              "      <th>3</th>\n",
              "      <td>11</td>\n",
              "      <td>4</td>\n",
              "      <td>Михаил</td>\n",
              "      <td>8000</td>\n",
              "      <td>Отдел сбыта</td>\n",
              "    </tr>\n",
              "  </tbody>\n",
              "</table>\n",
              "</div>"
            ],
            "text/plain": [
              "  dept_id  emp_id emp_name  salary      Depart_name\n",
              "0      10       1     Петр    2000  Отдел снабжения\n",
              "1      10       2     Иван    4000  Отдел снабжения\n",
              "2      11       3  Алексей    6000      Отдел сбыта\n",
              "3      11       4   Михаил    8000      Отдел сбыта"
            ]
          },
          "metadata": {
            "tags": []
          },
          "execution_count": 7
        }
      ]
    },
    {
      "metadata": {
        "id": "Zbv2OHd569sy",
        "colab_type": "code",
        "outputId": "4ec7514b-cf03-40f3-9724-347838b8d21d",
        "colab": {
          "base_uri": "https://localhost:8080/",
          "height": 87
        }
      },
      "cell_type": "code",
      "source": [
        "workers.groupby(by='Depart_name')['salary'].agg('max')"
      ],
      "execution_count": 8,
      "outputs": [
        {
          "output_type": "execute_result",
          "data": {
            "text/plain": [
              "Depart_name\n",
              "Отдел сбыта        8000\n",
              "Отдел снабжения    4000\n",
              "Name: salary, dtype: int64"
            ]
          },
          "metadata": {
            "tags": []
          },
          "execution_count": 8
        }
      ]
    },
    {
      "metadata": {
        "id": "0htk_3X3IZE7",
        "colab_type": "text"
      },
      "cell_type": "markdown",
      "source": [
        "### 4. Найти сотрудников с именем \"Петр\" вне зависимости от регистра (\"ПЕТР\", \"петр\" и т.п.) Employee "
      ]
    },
    {
      "metadata": {
        "id": "-3roNm7lIa2u",
        "colab_type": "code",
        "outputId": "35851ab8-9444-48aa-d131-5d79fc9d042b",
        "colab": {
          "base_uri": "https://localhost:8080/",
          "height": 77
        }
      },
      "cell_type": "code",
      "source": [
        "Employee[Employee['emp_name'].str.contains('петр', case=False)]"
      ],
      "execution_count": 9,
      "outputs": [
        {
          "output_type": "execute_result",
          "data": {
            "text/html": [
              "<div>\n",
              "<style scoped>\n",
              "    .dataframe tbody tr th:only-of-type {\n",
              "        vertical-align: middle;\n",
              "    }\n",
              "\n",
              "    .dataframe tbody tr th {\n",
              "        vertical-align: top;\n",
              "    }\n",
              "\n",
              "    .dataframe thead th {\n",
              "        text-align: right;\n",
              "    }\n",
              "</style>\n",
              "<table border=\"1\" class=\"dataframe\">\n",
              "  <thead>\n",
              "    <tr style=\"text-align: right;\">\n",
              "      <th></th>\n",
              "      <th>dept_id</th>\n",
              "      <th>emp_id</th>\n",
              "      <th>emp_name</th>\n",
              "      <th>salary</th>\n",
              "    </tr>\n",
              "  </thead>\n",
              "  <tbody>\n",
              "    <tr>\n",
              "      <th>0</th>\n",
              "      <td>10</td>\n",
              "      <td>1</td>\n",
              "      <td>Петр</td>\n",
              "      <td>2000</td>\n",
              "    </tr>\n",
              "  </tbody>\n",
              "</table>\n",
              "</div>"
            ],
            "text/plain": [
              "  dept_id  emp_id emp_name  salary\n",
              "0      10       1     Петр    2000"
            ]
          },
          "metadata": {
            "tags": []
          },
          "execution_count": 9
        }
      ]
    },
    {
      "metadata": {
        "id": "SJSyA0D7K65W",
        "colab_type": "code",
        "outputId": "9ce2a75c-8981-4593-c9b9-ae6956bec9fd",
        "colab": {
          "base_uri": "https://localhost:8080/",
          "height": 77
        }
      },
      "cell_type": "code",
      "source": [
        "Employee[Employee['emp_name'].str.contains('петр', regex=True, flags=re.IGNORECASE)]"
      ],
      "execution_count": 10,
      "outputs": [
        {
          "output_type": "execute_result",
          "data": {
            "text/html": [
              "<div>\n",
              "<style scoped>\n",
              "    .dataframe tbody tr th:only-of-type {\n",
              "        vertical-align: middle;\n",
              "    }\n",
              "\n",
              "    .dataframe tbody tr th {\n",
              "        vertical-align: top;\n",
              "    }\n",
              "\n",
              "    .dataframe thead th {\n",
              "        text-align: right;\n",
              "    }\n",
              "</style>\n",
              "<table border=\"1\" class=\"dataframe\">\n",
              "  <thead>\n",
              "    <tr style=\"text-align: right;\">\n",
              "      <th></th>\n",
              "      <th>dept_id</th>\n",
              "      <th>emp_id</th>\n",
              "      <th>emp_name</th>\n",
              "      <th>salary</th>\n",
              "    </tr>\n",
              "  </thead>\n",
              "  <tbody>\n",
              "    <tr>\n",
              "      <th>0</th>\n",
              "      <td>10</td>\n",
              "      <td>1</td>\n",
              "      <td>Петр</td>\n",
              "      <td>2000</td>\n",
              "    </tr>\n",
              "  </tbody>\n",
              "</table>\n",
              "</div>"
            ],
            "text/plain": [
              "  dept_id  emp_id emp_name  salary\n",
              "0      10       1     Петр    2000"
            ]
          },
          "metadata": {
            "tags": []
          },
          "execution_count": 10
        }
      ]
    },
    {
      "metadata": {
        "id": "g91_NzDNLQec",
        "colab_type": "text"
      },
      "cell_type": "markdown",
      "source": [
        "###5. Приход и расход денег в каждой точке происходит  1 раз в день. Написать запрос с выходными данными (пункт дата приход расход). Таблицы Income, Outcome"
      ]
    },
    {
      "metadata": {
        "id": "1FkuS1TgMDCr",
        "colab_type": "code",
        "outputId": "ef5947fe-9b32-499c-f326-2e2a1e733cf6",
        "colab": {
          "base_uri": "https://localhost:8080/",
          "height": 197
        }
      },
      "cell_type": "code",
      "source": [
        "df_income = pd.read_excel('../content/task.xlsx', sheet_name='Таблицы', usecols='M:O', skiprows=1, nrows=10).iloc[:9]\n",
        "#пришлось добавить iloc, потому что писал в google colab с pandas 0.22, где опция nrows еще не доступна\n",
        "df_income.head()"
      ],
      "execution_count": 11,
      "outputs": [
        {
          "output_type": "execute_result",
          "data": {
            "text/html": [
              "<div>\n",
              "<style scoped>\n",
              "    .dataframe tbody tr th:only-of-type {\n",
              "        vertical-align: middle;\n",
              "    }\n",
              "\n",
              "    .dataframe tbody tr th {\n",
              "        vertical-align: top;\n",
              "    }\n",
              "\n",
              "    .dataframe thead th {\n",
              "        text-align: right;\n",
              "    }\n",
              "</style>\n",
              "<table border=\"1\" class=\"dataframe\">\n",
              "  <thead>\n",
              "    <tr style=\"text-align: right;\">\n",
              "      <th></th>\n",
              "      <th>point</th>\n",
              "      <th>date</th>\n",
              "      <th>In</th>\n",
              "    </tr>\n",
              "  </thead>\n",
              "  <tbody>\n",
              "    <tr>\n",
              "      <th>0</th>\n",
              "      <td>1.0</td>\n",
              "      <td>2001-03-22 00:00:00.000</td>\n",
              "      <td>15000.0</td>\n",
              "    </tr>\n",
              "    <tr>\n",
              "      <th>1</th>\n",
              "      <td>1.0</td>\n",
              "      <td>2001-03-23 00:00:00.000</td>\n",
              "      <td>15000.0</td>\n",
              "    </tr>\n",
              "    <tr>\n",
              "      <th>2</th>\n",
              "      <td>1.0</td>\n",
              "      <td>2001-03-24 00:00:00.000</td>\n",
              "      <td>3400.0</td>\n",
              "    </tr>\n",
              "    <tr>\n",
              "      <th>3</th>\n",
              "      <td>1.0</td>\n",
              "      <td>2001-04-13 00:00:00.000</td>\n",
              "      <td>5000.0</td>\n",
              "    </tr>\n",
              "    <tr>\n",
              "      <th>4</th>\n",
              "      <td>1.0</td>\n",
              "      <td>2001-05-11 00:00:00.000</td>\n",
              "      <td>4500.0</td>\n",
              "    </tr>\n",
              "  </tbody>\n",
              "</table>\n",
              "</div>"
            ],
            "text/plain": [
              "   point                     date       In\n",
              "0    1.0  2001-03-22 00:00:00.000  15000.0\n",
              "1    1.0  2001-03-23 00:00:00.000  15000.0\n",
              "2    1.0  2001-03-24 00:00:00.000   3400.0\n",
              "3    1.0  2001-04-13 00:00:00.000   5000.0\n",
              "4    1.0  2001-05-11 00:00:00.000   4500.0"
            ]
          },
          "metadata": {
            "tags": []
          },
          "execution_count": 11
        }
      ]
    },
    {
      "metadata": {
        "id": "xEmCOG5G8SAq",
        "colab_type": "code",
        "outputId": "df01a5d2-10f9-4594-e190-9a8dbfb5593e",
        "colab": {
          "base_uri": "https://localhost:8080/",
          "height": 197
        }
      },
      "cell_type": "code",
      "source": [
        "df_outcome = pd.read_excel('../content/task.xlsx', sheet_name='Таблицы', usecols='Q:S', skiprows=1).iloc[:15]\n",
        "df_outcome.head()"
      ],
      "execution_count": 12,
      "outputs": [
        {
          "output_type": "execute_result",
          "data": {
            "text/html": [
              "<div>\n",
              "<style scoped>\n",
              "    .dataframe tbody tr th:only-of-type {\n",
              "        vertical-align: middle;\n",
              "    }\n",
              "\n",
              "    .dataframe tbody tr th {\n",
              "        vertical-align: top;\n",
              "    }\n",
              "\n",
              "    .dataframe thead th {\n",
              "        text-align: right;\n",
              "    }\n",
              "</style>\n",
              "<table border=\"1\" class=\"dataframe\">\n",
              "  <thead>\n",
              "    <tr style=\"text-align: right;\">\n",
              "      <th></th>\n",
              "      <th>point</th>\n",
              "      <th>date</th>\n",
              "      <th>Out</th>\n",
              "    </tr>\n",
              "  </thead>\n",
              "  <tbody>\n",
              "    <tr>\n",
              "      <th>0</th>\n",
              "      <td>1.0</td>\n",
              "      <td>2001-03-14 00:00:00.000</td>\n",
              "      <td>15348.0</td>\n",
              "    </tr>\n",
              "    <tr>\n",
              "      <th>1</th>\n",
              "      <td>1.0</td>\n",
              "      <td>2001-03-24 00:00:00.000</td>\n",
              "      <td>3663.0</td>\n",
              "    </tr>\n",
              "    <tr>\n",
              "      <th>2</th>\n",
              "      <td>1.0</td>\n",
              "      <td>2001-03-26 00:00:00.000</td>\n",
              "      <td>1221.0</td>\n",
              "    </tr>\n",
              "    <tr>\n",
              "      <th>3</th>\n",
              "      <td>1.0</td>\n",
              "      <td>2001-03-28 00:00:00.000</td>\n",
              "      <td>2075.0</td>\n",
              "    </tr>\n",
              "    <tr>\n",
              "      <th>4</th>\n",
              "      <td>1.0</td>\n",
              "      <td>2001-03-29 00:00:00.000</td>\n",
              "      <td>2004.0</td>\n",
              "    </tr>\n",
              "  </tbody>\n",
              "</table>\n",
              "</div>"
            ],
            "text/plain": [
              "   point                     date      Out\n",
              "0    1.0  2001-03-14 00:00:00.000  15348.0\n",
              "1    1.0  2001-03-24 00:00:00.000   3663.0\n",
              "2    1.0  2001-03-26 00:00:00.000   1221.0\n",
              "3    1.0  2001-03-28 00:00:00.000   2075.0\n",
              "4    1.0  2001-03-29 00:00:00.000   2004.0"
            ]
          },
          "metadata": {
            "tags": []
          },
          "execution_count": 12
        }
      ]
    },
    {
      "metadata": {
        "id": "OUC1_mxT_fWt",
        "colab_type": "code",
        "outputId": "f744ca82-0b00-4ea0-e239-f1cc172e2a77",
        "colab": {
          "base_uri": "https://localhost:8080/",
          "height": 617
        }
      },
      "cell_type": "code",
      "source": [
        "result = pd.merge(df_income, df_outcome, how='outer', on=['point', 'date']).sort_values(by=['date', 'point'])\n",
        "result"
      ],
      "execution_count": 13,
      "outputs": [
        {
          "output_type": "execute_result",
          "data": {
            "text/html": [
              "<div>\n",
              "<style scoped>\n",
              "    .dataframe tbody tr th:only-of-type {\n",
              "        vertical-align: middle;\n",
              "    }\n",
              "\n",
              "    .dataframe tbody tr th {\n",
              "        vertical-align: top;\n",
              "    }\n",
              "\n",
              "    .dataframe thead th {\n",
              "        text-align: right;\n",
              "    }\n",
              "</style>\n",
              "<table border=\"1\" class=\"dataframe\">\n",
              "  <thead>\n",
              "    <tr style=\"text-align: right;\">\n",
              "      <th></th>\n",
              "      <th>point</th>\n",
              "      <th>date</th>\n",
              "      <th>In</th>\n",
              "      <th>Out</th>\n",
              "    </tr>\n",
              "  </thead>\n",
              "  <tbody>\n",
              "    <tr>\n",
              "      <th>9</th>\n",
              "      <td>1.0</td>\n",
              "      <td>2001-03-14 00:00:00.000</td>\n",
              "      <td>NaN</td>\n",
              "      <td>15348.00</td>\n",
              "    </tr>\n",
              "    <tr>\n",
              "      <th>0</th>\n",
              "      <td>1.0</td>\n",
              "      <td>2001-03-22 00:00:00.000</td>\n",
              "      <td>15000.0</td>\n",
              "      <td>NaN</td>\n",
              "    </tr>\n",
              "    <tr>\n",
              "      <th>5</th>\n",
              "      <td>2.0</td>\n",
              "      <td>2001-03-22 00:00:00.000</td>\n",
              "      <td>10000.0</td>\n",
              "      <td>1440.00</td>\n",
              "    </tr>\n",
              "    <tr>\n",
              "      <th>1</th>\n",
              "      <td>1.0</td>\n",
              "      <td>2001-03-23 00:00:00.000</td>\n",
              "      <td>15000.0</td>\n",
              "      <td>NaN</td>\n",
              "    </tr>\n",
              "    <tr>\n",
              "      <th>2</th>\n",
              "      <td>1.0</td>\n",
              "      <td>2001-03-24 00:00:00.000</td>\n",
              "      <td>3400.0</td>\n",
              "      <td>3663.00</td>\n",
              "    </tr>\n",
              "    <tr>\n",
              "      <th>6</th>\n",
              "      <td>2.0</td>\n",
              "      <td>2001-03-24 00:00:00.000</td>\n",
              "      <td>1500.0</td>\n",
              "      <td>NaN</td>\n",
              "    </tr>\n",
              "    <tr>\n",
              "      <th>10</th>\n",
              "      <td>1.0</td>\n",
              "      <td>2001-03-26 00:00:00.000</td>\n",
              "      <td>NaN</td>\n",
              "      <td>1221.00</td>\n",
              "    </tr>\n",
              "    <tr>\n",
              "      <th>11</th>\n",
              "      <td>1.0</td>\n",
              "      <td>2001-03-28 00:00:00.000</td>\n",
              "      <td>NaN</td>\n",
              "      <td>2075.00</td>\n",
              "    </tr>\n",
              "    <tr>\n",
              "      <th>12</th>\n",
              "      <td>1.0</td>\n",
              "      <td>2001-03-29 00:00:00.000</td>\n",
              "      <td>NaN</td>\n",
              "      <td>2004.00</td>\n",
              "    </tr>\n",
              "    <tr>\n",
              "      <th>15</th>\n",
              "      <td>2.0</td>\n",
              "      <td>2001-03-29 00:00:00.000</td>\n",
              "      <td>NaN</td>\n",
              "      <td>7848.00</td>\n",
              "    </tr>\n",
              "    <tr>\n",
              "      <th>16</th>\n",
              "      <td>2.0</td>\n",
              "      <td>2001-04-02 00:00:00.000</td>\n",
              "      <td>NaN</td>\n",
              "      <td>2040.00</td>\n",
              "    </tr>\n",
              "    <tr>\n",
              "      <th>13</th>\n",
              "      <td>1.0</td>\n",
              "      <td>2001-04-11 00:00:00.000</td>\n",
              "      <td>NaN</td>\n",
              "      <td>3195.04</td>\n",
              "    </tr>\n",
              "    <tr>\n",
              "      <th>3</th>\n",
              "      <td>1.0</td>\n",
              "      <td>2001-04-13 00:00:00.000</td>\n",
              "      <td>5000.0</td>\n",
              "      <td>4490.00</td>\n",
              "    </tr>\n",
              "    <tr>\n",
              "      <th>14</th>\n",
              "      <td>1.0</td>\n",
              "      <td>2001-04-27 00:00:00.000</td>\n",
              "      <td>NaN</td>\n",
              "      <td>3110.00</td>\n",
              "    </tr>\n",
              "    <tr>\n",
              "      <th>4</th>\n",
              "      <td>1.0</td>\n",
              "      <td>2001-05-11 00:00:00.000</td>\n",
              "      <td>4500.0</td>\n",
              "      <td>2530.00</td>\n",
              "    </tr>\n",
              "    <tr>\n",
              "      <th>7</th>\n",
              "      <td>3.0</td>\n",
              "      <td>2001-09-13 00:00:00.000</td>\n",
              "      <td>11500.0</td>\n",
              "      <td>1500.00</td>\n",
              "    </tr>\n",
              "    <tr>\n",
              "      <th>17</th>\n",
              "      <td>3.0</td>\n",
              "      <td>2001-09-14 00:00:00.000</td>\n",
              "      <td>NaN</td>\n",
              "      <td>2300.00</td>\n",
              "    </tr>\n",
              "    <tr>\n",
              "      <th>8</th>\n",
              "      <td>3.0</td>\n",
              "      <td>2001-10-02 00:00:00.000</td>\n",
              "      <td>18000.0</td>\n",
              "      <td>NaN</td>\n",
              "    </tr>\n",
              "    <tr>\n",
              "      <th>18</th>\n",
              "      <td>3.0</td>\n",
              "      <td>2002-09-16 00:00:00.000</td>\n",
              "      <td>NaN</td>\n",
              "      <td>2150.00</td>\n",
              "    </tr>\n",
              "  </tbody>\n",
              "</table>\n",
              "</div>"
            ],
            "text/plain": [
              "    point                     date       In       Out\n",
              "9     1.0  2001-03-14 00:00:00.000      NaN  15348.00\n",
              "0     1.0  2001-03-22 00:00:00.000  15000.0       NaN\n",
              "5     2.0  2001-03-22 00:00:00.000  10000.0   1440.00\n",
              "1     1.0  2001-03-23 00:00:00.000  15000.0       NaN\n",
              "2     1.0  2001-03-24 00:00:00.000   3400.0   3663.00\n",
              "6     2.0  2001-03-24 00:00:00.000   1500.0       NaN\n",
              "10    1.0  2001-03-26 00:00:00.000      NaN   1221.00\n",
              "11    1.0  2001-03-28 00:00:00.000      NaN   2075.00\n",
              "12    1.0  2001-03-29 00:00:00.000      NaN   2004.00\n",
              "15    2.0  2001-03-29 00:00:00.000      NaN   7848.00\n",
              "16    2.0  2001-04-02 00:00:00.000      NaN   2040.00\n",
              "13    1.0  2001-04-11 00:00:00.000      NaN   3195.04\n",
              "3     1.0  2001-04-13 00:00:00.000   5000.0   4490.00\n",
              "14    1.0  2001-04-27 00:00:00.000      NaN   3110.00\n",
              "4     1.0  2001-05-11 00:00:00.000   4500.0   2530.00\n",
              "7     3.0  2001-09-13 00:00:00.000  11500.0   1500.00\n",
              "17    3.0  2001-09-14 00:00:00.000      NaN   2300.00\n",
              "8     3.0  2001-10-02 00:00:00.000  18000.0       NaN\n",
              "18    3.0  2002-09-16 00:00:00.000      NaN   2150.00"
            ]
          },
          "metadata": {
            "tags": []
          },
          "execution_count": 13
        }
      ]
    },
    {
      "metadata": {
        "id": "fA74yr13_frc",
        "colab_type": "text"
      },
      "cell_type": "markdown",
      "source": [
        "###6. Выбрать производителя, выпускающего компьютеры но не выпускающего принтеры"
      ]
    },
    {
      "metadata": {
        "id": "3f9Rkwa__f5D",
        "colab_type": "code",
        "outputId": "e5ef3bca-daa2-49b2-978b-1f77f68feb56",
        "colab": {
          "base_uri": "https://localhost:8080/",
          "height": 407
        }
      },
      "cell_type": "code",
      "source": [
        "d3 = {'Firm':pd.Series(['A','A','A','A','A','B','D','D','E','E','E','E']), \\\n",
        "      'model':pd.Series(['3080','3083','3190','3503','3520','2803','3220','3583','3150','3585','5280','5283']), \\\n",
        "      'type':pd.Series(['PC','PC','Printer','Printer','Printer','PC','Printer','Printer','PC','Printer','PC','PC'])}\n",
        "Product = pd.DataFrame(d3)\n",
        "Product"
      ],
      "execution_count": 14,
      "outputs": [
        {
          "output_type": "execute_result",
          "data": {
            "text/html": [
              "<div>\n",
              "<style scoped>\n",
              "    .dataframe tbody tr th:only-of-type {\n",
              "        vertical-align: middle;\n",
              "    }\n",
              "\n",
              "    .dataframe tbody tr th {\n",
              "        vertical-align: top;\n",
              "    }\n",
              "\n",
              "    .dataframe thead th {\n",
              "        text-align: right;\n",
              "    }\n",
              "</style>\n",
              "<table border=\"1\" class=\"dataframe\">\n",
              "  <thead>\n",
              "    <tr style=\"text-align: right;\">\n",
              "      <th></th>\n",
              "      <th>Firm</th>\n",
              "      <th>model</th>\n",
              "      <th>type</th>\n",
              "    </tr>\n",
              "  </thead>\n",
              "  <tbody>\n",
              "    <tr>\n",
              "      <th>0</th>\n",
              "      <td>A</td>\n",
              "      <td>3080</td>\n",
              "      <td>PC</td>\n",
              "    </tr>\n",
              "    <tr>\n",
              "      <th>1</th>\n",
              "      <td>A</td>\n",
              "      <td>3083</td>\n",
              "      <td>PC</td>\n",
              "    </tr>\n",
              "    <tr>\n",
              "      <th>2</th>\n",
              "      <td>A</td>\n",
              "      <td>3190</td>\n",
              "      <td>Printer</td>\n",
              "    </tr>\n",
              "    <tr>\n",
              "      <th>3</th>\n",
              "      <td>A</td>\n",
              "      <td>3503</td>\n",
              "      <td>Printer</td>\n",
              "    </tr>\n",
              "    <tr>\n",
              "      <th>4</th>\n",
              "      <td>A</td>\n",
              "      <td>3520</td>\n",
              "      <td>Printer</td>\n",
              "    </tr>\n",
              "    <tr>\n",
              "      <th>5</th>\n",
              "      <td>B</td>\n",
              "      <td>2803</td>\n",
              "      <td>PC</td>\n",
              "    </tr>\n",
              "    <tr>\n",
              "      <th>6</th>\n",
              "      <td>D</td>\n",
              "      <td>3220</td>\n",
              "      <td>Printer</td>\n",
              "    </tr>\n",
              "    <tr>\n",
              "      <th>7</th>\n",
              "      <td>D</td>\n",
              "      <td>3583</td>\n",
              "      <td>Printer</td>\n",
              "    </tr>\n",
              "    <tr>\n",
              "      <th>8</th>\n",
              "      <td>E</td>\n",
              "      <td>3150</td>\n",
              "      <td>PC</td>\n",
              "    </tr>\n",
              "    <tr>\n",
              "      <th>9</th>\n",
              "      <td>E</td>\n",
              "      <td>3585</td>\n",
              "      <td>Printer</td>\n",
              "    </tr>\n",
              "    <tr>\n",
              "      <th>10</th>\n",
              "      <td>E</td>\n",
              "      <td>5280</td>\n",
              "      <td>PC</td>\n",
              "    </tr>\n",
              "    <tr>\n",
              "      <th>11</th>\n",
              "      <td>E</td>\n",
              "      <td>5283</td>\n",
              "      <td>PC</td>\n",
              "    </tr>\n",
              "  </tbody>\n",
              "</table>\n",
              "</div>"
            ],
            "text/plain": [
              "   Firm model     type\n",
              "0     A  3080       PC\n",
              "1     A  3083       PC\n",
              "2     A  3190  Printer\n",
              "3     A  3503  Printer\n",
              "4     A  3520  Printer\n",
              "5     B  2803       PC\n",
              "6     D  3220  Printer\n",
              "7     D  3583  Printer\n",
              "8     E  3150       PC\n",
              "9     E  3585  Printer\n",
              "10    E  5280       PC\n",
              "11    E  5283       PC"
            ]
          },
          "metadata": {
            "tags": []
          },
          "execution_count": 14
        }
      ]
    },
    {
      "metadata": {
        "id": "sPjQ1Lf5IOzQ",
        "colab_type": "code",
        "outputId": "6f125225-4779-4987-9b5e-9f824f47624d",
        "colab": {
          "base_uri": "https://localhost:8080/",
          "height": 227
        }
      },
      "cell_type": "code",
      "source": [
        "#grouped = Product.groupby('Firm')['type'].value_counts()\n",
        "grouped = Product.pivot_table(index='Firm', columns='type', aggfunc='count')\n",
        "grouped"
      ],
      "execution_count": 15,
      "outputs": [
        {
          "output_type": "execute_result",
          "data": {
            "text/html": [
              "<div>\n",
              "<style scoped>\n",
              "    .dataframe tbody tr th:only-of-type {\n",
              "        vertical-align: middle;\n",
              "    }\n",
              "\n",
              "    .dataframe tbody tr th {\n",
              "        vertical-align: top;\n",
              "    }\n",
              "\n",
              "    .dataframe thead tr th {\n",
              "        text-align: left;\n",
              "    }\n",
              "\n",
              "    .dataframe thead tr:last-of-type th {\n",
              "        text-align: right;\n",
              "    }\n",
              "</style>\n",
              "<table border=\"1\" class=\"dataframe\">\n",
              "  <thead>\n",
              "    <tr>\n",
              "      <th></th>\n",
              "      <th colspan=\"2\" halign=\"left\">model</th>\n",
              "    </tr>\n",
              "    <tr>\n",
              "      <th>type</th>\n",
              "      <th>PC</th>\n",
              "      <th>Printer</th>\n",
              "    </tr>\n",
              "    <tr>\n",
              "      <th>Firm</th>\n",
              "      <th></th>\n",
              "      <th></th>\n",
              "    </tr>\n",
              "  </thead>\n",
              "  <tbody>\n",
              "    <tr>\n",
              "      <th>A</th>\n",
              "      <td>2.0</td>\n",
              "      <td>3.0</td>\n",
              "    </tr>\n",
              "    <tr>\n",
              "      <th>B</th>\n",
              "      <td>1.0</td>\n",
              "      <td>NaN</td>\n",
              "    </tr>\n",
              "    <tr>\n",
              "      <th>D</th>\n",
              "      <td>NaN</td>\n",
              "      <td>2.0</td>\n",
              "    </tr>\n",
              "    <tr>\n",
              "      <th>E</th>\n",
              "      <td>3.0</td>\n",
              "      <td>1.0</td>\n",
              "    </tr>\n",
              "  </tbody>\n",
              "</table>\n",
              "</div>"
            ],
            "text/plain": [
              "     model        \n",
              "type    PC Printer\n",
              "Firm              \n",
              "A      2.0     3.0\n",
              "B      1.0     NaN\n",
              "D      NaN     2.0\n",
              "E      3.0     1.0"
            ]
          },
          "metadata": {
            "tags": []
          },
          "execution_count": 15
        }
      ]
    },
    {
      "metadata": {
        "id": "ugFKZUZYIOl5",
        "colab_type": "code",
        "outputId": "55cd2569-816d-4cb9-b6f2-90f6289b1083",
        "colab": {
          "base_uri": "https://localhost:8080/",
          "height": 137
        }
      },
      "cell_type": "code",
      "source": [
        "grouped[grouped['model']['Printer'].isnull()]"
      ],
      "execution_count": 16,
      "outputs": [
        {
          "output_type": "execute_result",
          "data": {
            "text/html": [
              "<div>\n",
              "<style scoped>\n",
              "    .dataframe tbody tr th:only-of-type {\n",
              "        vertical-align: middle;\n",
              "    }\n",
              "\n",
              "    .dataframe tbody tr th {\n",
              "        vertical-align: top;\n",
              "    }\n",
              "\n",
              "    .dataframe thead tr th {\n",
              "        text-align: left;\n",
              "    }\n",
              "\n",
              "    .dataframe thead tr:last-of-type th {\n",
              "        text-align: right;\n",
              "    }\n",
              "</style>\n",
              "<table border=\"1\" class=\"dataframe\">\n",
              "  <thead>\n",
              "    <tr>\n",
              "      <th></th>\n",
              "      <th colspan=\"2\" halign=\"left\">model</th>\n",
              "    </tr>\n",
              "    <tr>\n",
              "      <th>type</th>\n",
              "      <th>PC</th>\n",
              "      <th>Printer</th>\n",
              "    </tr>\n",
              "    <tr>\n",
              "      <th>Firm</th>\n",
              "      <th></th>\n",
              "      <th></th>\n",
              "    </tr>\n",
              "  </thead>\n",
              "  <tbody>\n",
              "    <tr>\n",
              "      <th>B</th>\n",
              "      <td>1.0</td>\n",
              "      <td>NaN</td>\n",
              "    </tr>\n",
              "  </tbody>\n",
              "</table>\n",
              "</div>"
            ],
            "text/plain": [
              "     model        \n",
              "type    PC Printer\n",
              "Firm              \n",
              "B      1.0     NaN"
            ]
          },
          "metadata": {
            "tags": []
          },
          "execution_count": 16
        }
      ]
    },
    {
      "metadata": {
        "id": "z8y-4MZwIOX5",
        "colab_type": "text"
      },
      "cell_type": "markdown",
      "source": [
        "###7. Определить глубину проникновения по продуктам: рублевые и валютные счета каждому ГОСБ на последнюю дату Таблица - COOPERATION"
      ]
    },
    {
      "metadata": {
        "id": "soJAm7PPoI0v",
        "colab_type": "code",
        "outputId": "ae6e15a7-d945-4e5d-e7f0-e4418ea59fd1",
        "colab": {
          "base_uri": "https://localhost:8080/",
          "height": 197
        }
      },
      "cell_type": "code",
      "source": [
        "cooperation = pd.read_excel('../content/task.xlsx', sheet_name='Таблицы', usecols='AE:AI', skiprows=1).iloc[:203]\n",
        "cooperation.tail()"
      ],
      "execution_count": 19,
      "outputs": [
        {
          "output_type": "execute_result",
          "data": {
            "text/html": [
              "<div>\n",
              "<style scoped>\n",
              "    .dataframe tbody tr th:only-of-type {\n",
              "        vertical-align: middle;\n",
              "    }\n",
              "\n",
              "    .dataframe tbody tr th {\n",
              "        vertical-align: top;\n",
              "    }\n",
              "\n",
              "    .dataframe thead th {\n",
              "        text-align: right;\n",
              "    }\n",
              "</style>\n",
              "<table border=\"1\" class=\"dataframe\">\n",
              "  <thead>\n",
              "    <tr style=\"text-align: right;\">\n",
              "      <th></th>\n",
              "      <th>GOSB</th>\n",
              "      <th>ID_ORG</th>\n",
              "      <th>VAL_ACCA</th>\n",
              "      <th>RUB_ACCA</th>\n",
              "      <th>DATE_LOAD</th>\n",
              "    </tr>\n",
              "  </thead>\n",
              "  <tbody>\n",
              "    <tr>\n",
              "      <th>198</th>\n",
              "      <td>Республика Башкортостан</td>\n",
              "      <td>1-2QWQ2Y1</td>\n",
              "      <td>NaN</td>\n",
              "      <td>NaN</td>\n",
              "      <td>2015-09-30</td>\n",
              "    </tr>\n",
              "    <tr>\n",
              "      <th>199</th>\n",
              "      <td>Республика Башкортостан</td>\n",
              "      <td>1-3E0R7T4</td>\n",
              "      <td>NaN</td>\n",
              "      <td>NaN</td>\n",
              "      <td>2015-09-30</td>\n",
              "    </tr>\n",
              "    <tr>\n",
              "      <th>200</th>\n",
              "      <td>Свердловская область</td>\n",
              "      <td>1-5JOY756</td>\n",
              "      <td>NaN</td>\n",
              "      <td>NaN</td>\n",
              "      <td>2015-09-30</td>\n",
              "    </tr>\n",
              "    <tr>\n",
              "      <th>201</th>\n",
              "      <td>Республика Башкортостан</td>\n",
              "      <td>1-8ERQS4</td>\n",
              "      <td>NaN</td>\n",
              "      <td>NaN</td>\n",
              "      <td>2015-09-30</td>\n",
              "    </tr>\n",
              "    <tr>\n",
              "      <th>202</th>\n",
              "      <td>Республика Башкортостан</td>\n",
              "      <td>1-5Q6WMP0</td>\n",
              "      <td>NaN</td>\n",
              "      <td>NaN</td>\n",
              "      <td>2015-09-30</td>\n",
              "    </tr>\n",
              "  </tbody>\n",
              "</table>\n",
              "</div>"
            ],
            "text/plain": [
              "                        GOSB     ID_ORG  VAL_ACCA  RUB_ACCA  DATE_LOAD\n",
              "198  Республика Башкортостан  1-2QWQ2Y1       NaN       NaN 2015-09-30\n",
              "199  Республика Башкортостан  1-3E0R7T4       NaN       NaN 2015-09-30\n",
              "200     Свердловская область  1-5JOY756       NaN       NaN 2015-09-30\n",
              "201  Республика Башкортостан   1-8ERQS4       NaN       NaN 2015-09-30\n",
              "202  Республика Башкортостан  1-5Q6WMP0       NaN       NaN 2015-09-30"
            ]
          },
          "metadata": {
            "tags": []
          },
          "execution_count": 19
        }
      ]
    },
    {
      "metadata": {
        "id": "CWa6HtURTpra",
        "colab_type": "code",
        "outputId": "173182dd-dc9f-4145-e229-6f9e72561d4f",
        "colab": {
          "base_uri": "https://localhost:8080/",
          "height": 34
        }
      },
      "cell_type": "code",
      "source": [
        "len(cooperation['ID_ORG'].unique())"
      ],
      "execution_count": 20,
      "outputs": [
        {
          "output_type": "execute_result",
          "data": {
            "text/plain": [
              "203"
            ]
          },
          "metadata": {
            "tags": []
          },
          "execution_count": 20
        }
      ]
    },
    {
      "metadata": {
        "id": "J4pTCPXDoZff",
        "colab_type": "code",
        "outputId": "b50ddf82-4211-4daa-ecb8-856e8d501752",
        "colab": {
          "base_uri": "https://localhost:8080/",
          "height": 52
        }
      },
      "cell_type": "code",
      "source": [
        "cooperation['GOSB'].unique()"
      ],
      "execution_count": 21,
      "outputs": [
        {
          "output_type": "execute_result",
          "data": {
            "text/plain": [
              "array(['Челябинская область', 'Республика Башкортостан',\n",
              "       'Свердловская область'], dtype=object)"
            ]
          },
          "metadata": {
            "tags": []
          },
          "execution_count": 21
        }
      ]
    },
    {
      "metadata": {
        "id": "q2H6GAZqoZWW",
        "colab_type": "code",
        "outputId": "ee8b56ae-b607-4068-dca6-a8a8cb7c5cae",
        "colab": {
          "base_uri": "https://localhost:8080/",
          "height": 167
        }
      },
      "cell_type": "code",
      "source": [
        "cooperation.groupby(by=['GOSB'])['VAL_ACCA', 'RUB_ACCA'].agg('count').head()"
      ],
      "execution_count": 22,
      "outputs": [
        {
          "output_type": "execute_result",
          "data": {
            "text/html": [
              "<div>\n",
              "<style scoped>\n",
              "    .dataframe tbody tr th:only-of-type {\n",
              "        vertical-align: middle;\n",
              "    }\n",
              "\n",
              "    .dataframe tbody tr th {\n",
              "        vertical-align: top;\n",
              "    }\n",
              "\n",
              "    .dataframe thead th {\n",
              "        text-align: right;\n",
              "    }\n",
              "</style>\n",
              "<table border=\"1\" class=\"dataframe\">\n",
              "  <thead>\n",
              "    <tr style=\"text-align: right;\">\n",
              "      <th></th>\n",
              "      <th>VAL_ACCA</th>\n",
              "      <th>RUB_ACCA</th>\n",
              "    </tr>\n",
              "    <tr>\n",
              "      <th>GOSB</th>\n",
              "      <th></th>\n",
              "      <th></th>\n",
              "    </tr>\n",
              "  </thead>\n",
              "  <tbody>\n",
              "    <tr>\n",
              "      <th>Республика Башкортостан</th>\n",
              "      <td>8</td>\n",
              "      <td>9</td>\n",
              "    </tr>\n",
              "    <tr>\n",
              "      <th>Свердловская область</th>\n",
              "      <td>14</td>\n",
              "      <td>24</td>\n",
              "    </tr>\n",
              "    <tr>\n",
              "      <th>Челябинская область</th>\n",
              "      <td>12</td>\n",
              "      <td>31</td>\n",
              "    </tr>\n",
              "  </tbody>\n",
              "</table>\n",
              "</div>"
            ],
            "text/plain": [
              "                         VAL_ACCA  RUB_ACCA\n",
              "GOSB                                       \n",
              "Республика Башкортостан         8         9\n",
              "Свердловская область           14        24\n",
              "Челябинская область            12        31"
            ]
          },
          "metadata": {
            "tags": []
          },
          "execution_count": 22
        }
      ]
    },
    {
      "metadata": {
        "id": "xpuEAgWsLyVQ",
        "colab_type": "text"
      },
      "cell_type": "markdown",
      "source": [
        "### 8. Какое количество уникальных точек (поле INK) находились в 5 зоне (поле TIMEZONE) в сентябре?"
      ]
    },
    {
      "metadata": {
        "id": "0zDUVdnRLyFj",
        "colab_type": "code",
        "outputId": "faa6423d-0322-47cb-ed23-214518483022",
        "colab": {
          "base_uri": "https://localhost:8080/",
          "height": 364
        }
      },
      "cell_type": "code",
      "source": [
        "tab2 = pd.read_excel('../content/task.xlsx', sheet_name='Таблицы', usecols='U:AC', skiprows=1).iloc[:18913]\n",
        "tab2.tail()"
      ],
      "execution_count": 23,
      "outputs": [
        {
          "output_type": "execute_result",
          "data": {
            "text/html": [
              "<div>\n",
              "<style scoped>\n",
              "    .dataframe tbody tr th:only-of-type {\n",
              "        vertical-align: middle;\n",
              "    }\n",
              "\n",
              "    .dataframe tbody tr th {\n",
              "        vertical-align: top;\n",
              "    }\n",
              "\n",
              "    .dataframe thead th {\n",
              "        text-align: right;\n",
              "    }\n",
              "</style>\n",
              "<table border=\"1\" class=\"dataframe\">\n",
              "  <thead>\n",
              "    <tr style=\"text-align: right;\">\n",
              "      <th></th>\n",
              "      <th>TB</th>\n",
              "      <th>GOSB</th>\n",
              "      <th>KIC</th>\n",
              "      <th>INK</th>\n",
              "      <th>TIMEZONE</th>\n",
              "      <th>CUT_TB</th>\n",
              "      <th>TYPE</th>\n",
              "      <th>VALUE</th>\n",
              "      <th>REPDATE</th>\n",
              "    </tr>\n",
              "  </thead>\n",
              "  <tbody>\n",
              "    <tr>\n",
              "      <th>18908</th>\n",
              "      <td>ЦЕНТРАЛЬНО-ЧЕРНОЗЕМНЫЙ БАНК ПАО СБЕРБАНК Г.ВОР...</td>\n",
              "      <td>8592</td>\n",
              "      <td>ОО №8592/629 КИЦ \"Старооскольский\"</td>\n",
              "      <td>842659333700001</td>\n",
              "      <td>2.0</td>\n",
              "      <td>ЦЧБ</td>\n",
              "      <td>OPERCOUNT</td>\n",
              "      <td>1</td>\n",
              "      <td>01.07.18</td>\n",
              "    </tr>\n",
              "    <tr>\n",
              "      <th>18909</th>\n",
              "      <td>ЦЕНТРАЛЬНО-ЧЕРНОЗЕМНЫЙ БАНК ПАО СБЕРБАНК Г.ВОР...</td>\n",
              "      <td>8592</td>\n",
              "      <td>ОО №8592/068 КИЦ \"Белгородский\"</td>\n",
              "      <td>8592282897320477600002</td>\n",
              "      <td>1.0</td>\n",
              "      <td>ЦЧБ</td>\n",
              "      <td>OPERCOUNT</td>\n",
              "      <td>1</td>\n",
              "      <td>01.07.18</td>\n",
              "    </tr>\n",
              "    <tr>\n",
              "      <th>18910</th>\n",
              "      <td>ЦЕНТРАЛЬНО-ЧЕРНОЗЕМНЫЙ БАНК ПАО СБЕРБАНК Г.ВОР...</td>\n",
              "      <td>9013</td>\n",
              "      <td>ОО №9013/0199 КИЦ \"Воронежский\"</td>\n",
              "      <td>9013537842219144200010</td>\n",
              "      <td>2.0</td>\n",
              "      <td>ЦЧБ</td>\n",
              "      <td>OPERCOUNT</td>\n",
              "      <td>15</td>\n",
              "      <td>01.07.18</td>\n",
              "    </tr>\n",
              "    <tr>\n",
              "      <th>18911</th>\n",
              "      <td>ЦЕНТРАЛЬНО-ЧЕРНОЗЕМНЫЙ БАНК ПАО СБЕРБАНК Г.ВОР...</td>\n",
              "      <td>8592</td>\n",
              "      <td>ОО №8592/237 КИЦ \"Валуйский\"</td>\n",
              "      <td>9054537842219144200009</td>\n",
              "      <td>2.0</td>\n",
              "      <td>ЦЧБ</td>\n",
              "      <td>OPERCOUNT</td>\n",
              "      <td>14</td>\n",
              "      <td>01.07.18</td>\n",
              "    </tr>\n",
              "    <tr>\n",
              "      <th>18912</th>\n",
              "      <td>ЦЕНТРАЛЬНО-ЧЕРНОЗЕМНЫЙ БАНК ПАО СБЕРБАНК Г.ВОР...</td>\n",
              "      <td>9013</td>\n",
              "      <td>ОО №9013/443 КИЦ \"Борисоглебский\"</td>\n",
              "      <td>9013537842219144200003</td>\n",
              "      <td>3.0</td>\n",
              "      <td>ЦЧБ</td>\n",
              "      <td>OPERCOUNT</td>\n",
              "      <td>6</td>\n",
              "      <td>01.07.18</td>\n",
              "    </tr>\n",
              "  </tbody>\n",
              "</table>\n",
              "</div>"
            ],
            "text/plain": [
              "                                                      TB  GOSB  \\\n",
              "18908  ЦЕНТРАЛЬНО-ЧЕРНОЗЕМНЫЙ БАНК ПАО СБЕРБАНК Г.ВОР...  8592   \n",
              "18909  ЦЕНТРАЛЬНО-ЧЕРНОЗЕМНЫЙ БАНК ПАО СБЕРБАНК Г.ВОР...  8592   \n",
              "18910  ЦЕНТРАЛЬНО-ЧЕРНОЗЕМНЫЙ БАНК ПАО СБЕРБАНК Г.ВОР...  9013   \n",
              "18911  ЦЕНТРАЛЬНО-ЧЕРНОЗЕМНЫЙ БАНК ПАО СБЕРБАНК Г.ВОР...  8592   \n",
              "18912  ЦЕНТРАЛЬНО-ЧЕРНОЗЕМНЫЙ БАНК ПАО СБЕРБАНК Г.ВОР...  9013   \n",
              "\n",
              "                                      KIC                     INK  TIMEZONE  \\\n",
              "18908  ОО №8592/629 КИЦ \"Старооскольский\"         842659333700001       2.0   \n",
              "18909     ОО №8592/068 КИЦ \"Белгородский\"  8592282897320477600002       1.0   \n",
              "18910     ОО №9013/0199 КИЦ \"Воронежский\"  9013537842219144200010       2.0   \n",
              "18911        ОО №8592/237 КИЦ \"Валуйский\"  9054537842219144200009       2.0   \n",
              "18912   ОО №9013/443 КИЦ \"Борисоглебский\"  9013537842219144200003       3.0   \n",
              "\n",
              "      CUT_TB       TYPE  VALUE   REPDATE  \n",
              "18908    ЦЧБ  OPERCOUNT      1  01.07.18  \n",
              "18909    ЦЧБ  OPERCOUNT      1  01.07.18  \n",
              "18910    ЦЧБ  OPERCOUNT     15  01.07.18  \n",
              "18911    ЦЧБ  OPERCOUNT     14  01.07.18  \n",
              "18912    ЦЧБ  OPERCOUNT      6  01.07.18  "
            ]
          },
          "metadata": {
            "tags": []
          },
          "execution_count": 23
        }
      ]
    },
    {
      "metadata": {
        "id": "yrDpQCStRgWo",
        "colab_type": "code",
        "outputId": "556dfe9d-b67e-4a52-d90b-feea0e368b93",
        "colab": {
          "base_uri": "https://localhost:8080/",
          "height": 281
        }
      },
      "cell_type": "code",
      "source": [
        "tab2['REPDATE'] = pd.to_datetime(tab2['REPDATE'], format='%d.%m.%y')\n",
        "tab2.head()"
      ],
      "execution_count": 24,
      "outputs": [
        {
          "output_type": "execute_result",
          "data": {
            "text/html": [
              "<div>\n",
              "<style scoped>\n",
              "    .dataframe tbody tr th:only-of-type {\n",
              "        vertical-align: middle;\n",
              "    }\n",
              "\n",
              "    .dataframe tbody tr th {\n",
              "        vertical-align: top;\n",
              "    }\n",
              "\n",
              "    .dataframe thead th {\n",
              "        text-align: right;\n",
              "    }\n",
              "</style>\n",
              "<table border=\"1\" class=\"dataframe\">\n",
              "  <thead>\n",
              "    <tr style=\"text-align: right;\">\n",
              "      <th></th>\n",
              "      <th>TB</th>\n",
              "      <th>GOSB</th>\n",
              "      <th>KIC</th>\n",
              "      <th>INK</th>\n",
              "      <th>TIMEZONE</th>\n",
              "      <th>CUT_TB</th>\n",
              "      <th>TYPE</th>\n",
              "      <th>VALUE</th>\n",
              "      <th>REPDATE</th>\n",
              "    </tr>\n",
              "  </thead>\n",
              "  <tbody>\n",
              "    <tr>\n",
              "      <th>0</th>\n",
              "      <td>ЦЕНТРАЛЬНО-ЧЕРНОЗЕМНЫЙ БАНК ПАО СБЕРБАНК Г.ВОР...</td>\n",
              "      <td>8592</td>\n",
              "      <td>ОО №8592/068 КИЦ \"Белгородский\"</td>\n",
              "      <td>8592555276917671100004</td>\n",
              "      <td>1.0</td>\n",
              "      <td>ЦЧБ</td>\n",
              "      <td>OPERCOUNT</td>\n",
              "      <td>23</td>\n",
              "      <td>2018-08-01</td>\n",
              "    </tr>\n",
              "    <tr>\n",
              "      <th>1</th>\n",
              "      <td>ЦЕНТРАЛЬНО-ЧЕРНОЗЕМНЫЙ БАНК ПАО СБЕРБАНК Г.ВОР...</td>\n",
              "      <td>9013</td>\n",
              "      <td>ОО №9013/0199 КИЦ \"Воронежский\"</td>\n",
              "      <td>9013484120855371100046</td>\n",
              "      <td>2.0</td>\n",
              "      <td>ЦЧБ</td>\n",
              "      <td>OPERCOUNT</td>\n",
              "      <td>26</td>\n",
              "      <td>2018-08-01</td>\n",
              "    </tr>\n",
              "    <tr>\n",
              "      <th>2</th>\n",
              "      <td>ЦЕНТРАЛЬНО-ЧЕРНОЗЕМНЫЙ БАНК ПАО СБЕРБАНК Г.ВОР...</td>\n",
              "      <td>8594</td>\n",
              "      <td>ОО №8594/0135 КИЦ \"Тамбовский\"</td>\n",
              "      <td>8594286168702672900127</td>\n",
              "      <td>1.0</td>\n",
              "      <td>ЦЧБ</td>\n",
              "      <td>OPERCOUNT</td>\n",
              "      <td>30</td>\n",
              "      <td>2018-08-01</td>\n",
              "    </tr>\n",
              "    <tr>\n",
              "      <th>3</th>\n",
              "      <td>ЦЕНТРАЛЬНО-ЧЕРНОЗЕМНЫЙ БАНК ПАО СБЕРБАНК Г.ВОР...</td>\n",
              "      <td>8594</td>\n",
              "      <td>ОО №8594/0135 КИЦ \"Тамбовский\"</td>\n",
              "      <td>8594286168702672900128</td>\n",
              "      <td>2.0</td>\n",
              "      <td>ЦЧБ</td>\n",
              "      <td>OPERCOUNT</td>\n",
              "      <td>30</td>\n",
              "      <td>2018-08-01</td>\n",
              "    </tr>\n",
              "    <tr>\n",
              "      <th>4</th>\n",
              "      <td>ЦЕНТРАЛЬНО-ЧЕРНОЗЕМНЫЙ БАНК ПАО СБЕРБАНК Г.ВОР...</td>\n",
              "      <td>8594</td>\n",
              "      <td>ОО №8594/0135 КИЦ \"Тамбовский\"</td>\n",
              "      <td>8594286168702672900130</td>\n",
              "      <td>1.0</td>\n",
              "      <td>ЦЧБ</td>\n",
              "      <td>OPERCOUNT</td>\n",
              "      <td>9</td>\n",
              "      <td>2018-08-01</td>\n",
              "    </tr>\n",
              "  </tbody>\n",
              "</table>\n",
              "</div>"
            ],
            "text/plain": [
              "                                                  TB  GOSB  \\\n",
              "0  ЦЕНТРАЛЬНО-ЧЕРНОЗЕМНЫЙ БАНК ПАО СБЕРБАНК Г.ВОР...  8592   \n",
              "1  ЦЕНТРАЛЬНО-ЧЕРНОЗЕМНЫЙ БАНК ПАО СБЕРБАНК Г.ВОР...  9013   \n",
              "2  ЦЕНТРАЛЬНО-ЧЕРНОЗЕМНЫЙ БАНК ПАО СБЕРБАНК Г.ВОР...  8594   \n",
              "3  ЦЕНТРАЛЬНО-ЧЕРНОЗЕМНЫЙ БАНК ПАО СБЕРБАНК Г.ВОР...  8594   \n",
              "4  ЦЕНТРАЛЬНО-ЧЕРНОЗЕМНЫЙ БАНК ПАО СБЕРБАНК Г.ВОР...  8594   \n",
              "\n",
              "                               KIC                     INK  TIMEZONE CUT_TB  \\\n",
              "0  ОО №8592/068 КИЦ \"Белгородский\"  8592555276917671100004       1.0    ЦЧБ   \n",
              "1  ОО №9013/0199 КИЦ \"Воронежский\"  9013484120855371100046       2.0    ЦЧБ   \n",
              "2   ОО №8594/0135 КИЦ \"Тамбовский\"  8594286168702672900127       1.0    ЦЧБ   \n",
              "3   ОО №8594/0135 КИЦ \"Тамбовский\"  8594286168702672900128       2.0    ЦЧБ   \n",
              "4   ОО №8594/0135 КИЦ \"Тамбовский\"  8594286168702672900130       1.0    ЦЧБ   \n",
              "\n",
              "        TYPE  VALUE    REPDATE  \n",
              "0  OPERCOUNT     23 2018-08-01  \n",
              "1  OPERCOUNT     26 2018-08-01  \n",
              "2  OPERCOUNT     30 2018-08-01  \n",
              "3  OPERCOUNT     30 2018-08-01  \n",
              "4  OPERCOUNT      9 2018-08-01  "
            ]
          },
          "metadata": {
            "tags": []
          },
          "execution_count": 24
        }
      ]
    },
    {
      "metadata": {
        "id": "p6iJKFsALzcY",
        "colab_type": "code",
        "outputId": "5f134f34-5a7d-49c0-86b1-77591a39a049",
        "colab": {
          "base_uri": "https://localhost:8080/",
          "height": 34
        }
      },
      "cell_type": "code",
      "source": [
        "len(tab2[np.logical_and(tab2['TIMEZONE']==5, tab2['REPDATE'].dt.month==9)]['INK'].unique())"
      ],
      "execution_count": 25,
      "outputs": [
        {
          "output_type": "execute_result",
          "data": {
            "text/plain": [
              "821"
            ]
          },
          "metadata": {
            "tags": []
          },
          "execution_count": 25
        }
      ]
    },
    {
      "metadata": {
        "id": "PDHBgAf9LzTE",
        "colab_type": "text"
      },
      "cell_type": "markdown",
      "source": [
        "### 9. Найдите сумму всех чисел, которые могут быть записаны в виде суммы пятых степеней их цифр."
      ]
    },
    {
      "metadata": {
        "id": "Ws2aKbV5LzKB",
        "colab_type": "text"
      },
      "cell_type": "markdown",
      "source": [
        "Максимум, который даст нам одна цифра при сложении - это $9^5 = 59\\,049$  \n",
        "Для числа $999\\,999$ сумма пятых степеней цифр равна $354\\,294$, и если мы добавим еще одну девятку, то сумма всё равно останется 6-ти значной, т.о. можем ограничить наш поиск числом $9^5*6$"
      ]
    },
    {
      "metadata": {
        "id": "_IacCCFW_gFf",
        "colab_type": "code",
        "colab": {}
      },
      "cell_type": "code",
      "source": [
        "def sum_5(x):\n",
        "  \"\"\" \n",
        "  Вычисляет сумму пятых степений числа х\n",
        "  \"\"\"\n",
        "  result = 0\n",
        "  for i in str(x):\n",
        "    result += int(i)**5\n",
        "  return result"
      ],
      "execution_count": 0,
      "outputs": []
    },
    {
      "metadata": {
        "id": "K2mZOzlQq3e7",
        "colab_type": "code",
        "outputId": "e28d89d5-b352-416e-ab46-aa0dbe82a706",
        "colab": {
          "base_uri": "https://localhost:8080/",
          "height": 141
        }
      },
      "cell_type": "code",
      "source": [
        "result = 0\n",
        "for num in range(2, 9**5*6):\n",
        "  if num == sum_5(num):\n",
        "    print(num)\n",
        "    result += num\n",
        "print(f'сумма искомых чисел равна {result}')"
      ],
      "execution_count": 27,
      "outputs": [
        {
          "output_type": "stream",
          "text": [
            "4150\n",
            "4151\n",
            "54748\n",
            "92727\n",
            "93084\n",
            "194979\n",
            "сумма искомых чисел равна 443839\n"
          ],
          "name": "stdout"
        }
      ]
    },
    {
      "metadata": {
        "id": "Ft_kmXCL2aXm",
        "colab_type": "text"
      },
      "cell_type": "markdown",
      "source": [
        "### 10. Какова сумма чисел в диагоналях аналогичной спирали 1001 на 1001?\n",
        "```\n",
        "43 44 45 46 47 48 49\n",
        "42 21 22 23 24 25 26\n",
        "41 20  7  8  9 10 27\n",
        "40 19  6  1  2 11 28\n",
        "39 18  5  4  3 12 29\n",
        "38 17 16 15 14 13 30\n",
        "37 36 35 34 33 32 31\n",
        "```\n",
        "\n"
      ]
    },
    {
      "metadata": {
        "id": "JemdTJS94Yim",
        "colab_type": "text"
      },
      "cell_type": "markdown",
      "source": [
        "Сумма имеет следующий вид:\n",
        "$1 + (3 + 5 + 7 + 9 )+ (13 + 17 + 21 + 25) + (31 + 37 + 43 + 49) + ...$\n",
        "т.е. после 1,  каждое число (стоящее в углах первого квадрата 3х3) увеличивается на 2, затем следующие 4 угла прирастают на 4, затем на 6, на 8 и т.д."
      ]
    },
    {
      "metadata": {
        "id": "jbnbSh9e4a4P",
        "colab_type": "code",
        "colab": {}
      },
      "cell_type": "code",
      "source": [
        "def sum_diag(x):\n",
        "  \"\"\"\n",
        "  Определяет сумму чисел, стоящих в диагоналях 'спирального' квадрата чисел\n",
        "  размером х на х, x > 1, x - нечётное\n",
        "  \"\"\"\n",
        "  sum = 1\n",
        "  add = 1\n",
        "  growth = 2\n",
        "  for i in range(1, x, 2):\n",
        "    for j in range(4):\n",
        "      add += growth\n",
        "      sum += add\n",
        "    growth += 2\n",
        "  return sum"
      ],
      "execution_count": 0,
      "outputs": []
    },
    {
      "metadata": {
        "id": "a-pnFttBq5OI",
        "colab_type": "code",
        "outputId": "ed109f94-5d31-44cf-a951-3a7a98e74a3b",
        "colab": {
          "base_uri": "https://localhost:8080/",
          "height": 34
        }
      },
      "cell_type": "code",
      "source": [
        "print(sum_diag(5))"
      ],
      "execution_count": 29,
      "outputs": [
        {
          "output_type": "stream",
          "text": [
            "101\n"
          ],
          "name": "stdout"
        }
      ]
    },
    {
      "metadata": {
        "id": "f172YrQ24bEH",
        "colab_type": "code",
        "outputId": "9eeb5f4e-193d-4c95-98bc-cfa530f6ad13",
        "colab": {
          "base_uri": "https://localhost:8080/",
          "height": 34
        }
      },
      "cell_type": "code",
      "source": [
        "print(sum_diag(1001))"
      ],
      "execution_count": 30,
      "outputs": [
        {
          "output_type": "stream",
          "text": [
            "669171001\n"
          ],
          "name": "stdout"
        }
      ]
    },
    {
      "metadata": {
        "id": "siU4WF-n4bkg",
        "colab_type": "text"
      },
      "cell_type": "markdown",
      "source": [
        "### 11. На вход подается две даты, найти следующий рабочий день от первой даты + разницу (в рабочих днях). Для расчетов пользоваться производственным календарем за 2016- 2017 год."
      ]
    },
    {
      "metadata": {
        "id": "3DwgnhViXucu",
        "colab_type": "code",
        "colab": {}
      },
      "cell_type": "code",
      "source": [
        "import requests"
      ],
      "execution_count": 0,
      "outputs": []
    },
    {
      "metadata": {
        "id": "9H6OTB9h4bwd",
        "colab_type": "code",
        "outputId": "7cbc0a38-6772-4519-a75b-a475e5e57089",
        "colab": {
          "base_uri": "https://localhost:8080/",
          "height": 54
        }
      },
      "cell_type": "code",
      "source": [
        "url = 'http://basicdata.ru/api/json/calend/'\n",
        "prod_cal = requests.get(url).json()\n",
        "prod_cal_dic = prod_cal['data']\n",
        "print(prod_cal_dic['2017'])"
      ],
      "execution_count": 32,
      "outputs": [
        {
          "output_type": "stream",
          "text": [
            "{'1': {'2': {'isWorking': 2}, '3': {'isWorking': 2}, '4': {'isWorking': 2}, '5': {'isWorking': 2}, '6': {'isWorking': 2}}, '2': {'22': {'isWorking': 3}, '23': {'isWorking': 2}, '24': {'isWorking': 2}}, '3': {'7': {'isWorking': 3}, '8': {'isWorking': 2}}, '5': {'1': {'isWorking': 2}, '8': {'isWorking': 2}, '9': {'isWorking': 2}}, '6': {'12': {'isWorking': 2}}, '11': {'3': {'isWorking': 3}, '6': {'isWorking': 2}}}\n"
          ],
          "name": "stdout"
        }
      ]
    },
    {
      "metadata": {
        "id": "uV3K0u1xea9f",
        "colab_type": "text"
      },
      "cell_type": "markdown",
      "source": [
        "В данном словаре дни помечены следующим образом:\n",
        "* 0 — рабочий день;\n",
        "* 2 — праздничный/нерабочий день;\n",
        "* 3 — сокращенный на 1 час рабочий день.  \n",
        "\n",
        "Все остальные, не указанные в словаре дни, соответствуют правилу по умолчанию: Пн-Пт = рабочий, Сб-Вс = выходной."
      ]
    },
    {
      "metadata": {
        "id": "WkNUzUIObYOv",
        "colab_type": "code",
        "colab": {}
      },
      "cell_type": "code",
      "source": [
        "def check_prod_cal(date: datetime.date):\n",
        "  \"\"\"\n",
        "  Возвращает 1, если date - это рабочий день, и 0 если выходной\n",
        "  \"\"\"\n",
        "  try:\n",
        "    x =  prod_cal_dic[str(date.year)][str(date.month)][str(date.day)]['isWorking']\n",
        "    if x == 0:\n",
        "      return 1\n",
        "    elif x == 2:\n",
        "      return 0\n",
        "    elif x == 3:\n",
        "      return 1\n",
        "  except: \n",
        "    # считаем, что пользователи не будут вбивать несуществующие даты\n",
        "    # т.е. исключение - это случай, когда даты нет в нашем словаре \n",
        "    if 0 <= date.weekday()<= 4:\n",
        "      return 1\n",
        "    else:\n",
        "      return 0"
      ],
      "execution_count": 0,
      "outputs": []
    },
    {
      "metadata": {
        "id": "8rAtYWFTdMFE",
        "colab_type": "code",
        "outputId": "27fd4cf2-4569-430c-9363-2027008a9228",
        "colab": {
          "base_uri": "https://localhost:8080/",
          "height": 34
        }
      },
      "cell_type": "code",
      "source": [
        "d = datetime.date(2017, 5, 9)\n",
        "print(check_prod_cal(d))"
      ],
      "execution_count": 35,
      "outputs": [
        {
          "output_type": "stream",
          "text": [
            "0\n"
          ],
          "name": "stdout"
        }
      ]
    },
    {
      "metadata": {
        "id": "HB2rXmA1W8o_",
        "colab_type": "code",
        "colab": {}
      },
      "cell_type": "code",
      "source": [
        "def find_work_days(date1: datetime.date, date2: datetime.date):\n",
        "  \"\"\"\n",
        "  Возвращает два значения: \n",
        "    (date1 + 1 раб.день, разница в раб.днях между date1 и date2 включительно)\n",
        "  \"\"\"\n",
        "  z = 0\n",
        "  first_res = date1\n",
        "  while z == 0:\n",
        "    first_res =  first_res + datetime.timedelta(days=1) #прибавляем 1 раб.день\n",
        "    z = check_prod_cal(first_res) #если выходной, тогда z = 0 и цикл повторится\n",
        "  \n",
        "  sec_res = check_prod_cal(date1)\n",
        "  while date1 < date2:\n",
        "    date1 = date1 + datetime.timedelta(days=1)\n",
        "    sec_res += check_prod_cal(date1)\n",
        "  return (first_res, sec_res)"
      ],
      "execution_count": 0,
      "outputs": []
    },
    {
      "metadata": {
        "id": "yeS--axVW8Mt",
        "colab_type": "code",
        "outputId": "20413244-6a3c-4b28-c371-9d17e5265b69",
        "colab": {
          "base_uri": "https://localhost:8080/",
          "height": 34
        }
      },
      "cell_type": "code",
      "source": [
        "d1 = datetime.date(2017, 5, 8)\n",
        "d2 = datetime.date(2017, 5, 16)\n",
        "print(find_work_days(d1, d2))"
      ],
      "execution_count": 37,
      "outputs": [
        {
          "output_type": "stream",
          "text": [
            "(datetime.date(2017, 5, 10), 5)\n"
          ],
          "name": "stdout"
        }
      ]
    },
    {
      "metadata": {
        "id": "DnV8c9cjnD1u",
        "colab_type": "text"
      },
      "cell_type": "markdown",
      "source": [
        "### 12. В таблицу 3 необходимо добавить в таблицу два новых поля:\n",
        "PERCENTILE – перцентиль (квантиль) группы по значениям VALUES по порогу группы THRESHOLD.\n",
        "\n",
        "Обозначения: GROUP_ID – ID группы.\n",
        "ELEMENT – ID элемента.\n",
        "VALUES – значение показателя элемента.\n",
        "THRESHOLD – пороговое значение для группы.\n",
        "DEVIATION – булево значение - 1 если значение (VALUES) элемента > порогового значения (PERCENTILE), иначе – 0."
      ]
    },
    {
      "metadata": {
        "id": "lGMKimd1nDzb",
        "colab_type": "code",
        "outputId": "7637e6cf-3a22-43e4-d440-23b2d8c00fd8",
        "colab": {
          "base_uri": "https://localhost:8080/",
          "height": 197
        }
      },
      "cell_type": "code",
      "source": [
        "np.random.seed(123)\n",
        "tab3 = pd.DataFrame({'GROUP_ID': np.random.randint(1, 7, size=100),\\\n",
        "                     'ELEMENT': np.arange(1, 101),\n",
        "                     'VALUES': np.random.randint(0, 50, size=100)\\\n",
        "                    })\n",
        "tab3['THRESHOLD'] = tab3['GROUP_ID']*5\n",
        "tab3 = tab3[['GROUP_ID','ELEMENT','VALUES','THRESHOLD']]\n",
        "tab3.sort_values(by='GROUP_ID', inplace=True)\n",
        "tab3.tail()"
      ],
      "execution_count": 44,
      "outputs": [
        {
          "output_type": "execute_result",
          "data": {
            "text/html": [
              "<div>\n",
              "<style scoped>\n",
              "    .dataframe tbody tr th:only-of-type {\n",
              "        vertical-align: middle;\n",
              "    }\n",
              "\n",
              "    .dataframe tbody tr th {\n",
              "        vertical-align: top;\n",
              "    }\n",
              "\n",
              "    .dataframe thead th {\n",
              "        text-align: right;\n",
              "    }\n",
              "</style>\n",
              "<table border=\"1\" class=\"dataframe\">\n",
              "  <thead>\n",
              "    <tr style=\"text-align: right;\">\n",
              "      <th></th>\n",
              "      <th>GROUP_ID</th>\n",
              "      <th>ELEMENT</th>\n",
              "      <th>VALUES</th>\n",
              "      <th>THRESHOLD</th>\n",
              "    </tr>\n",
              "  </thead>\n",
              "  <tbody>\n",
              "    <tr>\n",
              "      <th>51</th>\n",
              "      <td>6</td>\n",
              "      <td>52</td>\n",
              "      <td>13</td>\n",
              "      <td>30</td>\n",
              "    </tr>\n",
              "    <tr>\n",
              "      <th>68</th>\n",
              "      <td>6</td>\n",
              "      <td>69</td>\n",
              "      <td>1</td>\n",
              "      <td>30</td>\n",
              "    </tr>\n",
              "    <tr>\n",
              "      <th>56</th>\n",
              "      <td>6</td>\n",
              "      <td>57</td>\n",
              "      <td>30</td>\n",
              "      <td>30</td>\n",
              "    </tr>\n",
              "    <tr>\n",
              "      <th>89</th>\n",
              "      <td>6</td>\n",
              "      <td>90</td>\n",
              "      <td>9</td>\n",
              "      <td>30</td>\n",
              "    </tr>\n",
              "    <tr>\n",
              "      <th>0</th>\n",
              "      <td>6</td>\n",
              "      <td>1</td>\n",
              "      <td>6</td>\n",
              "      <td>30</td>\n",
              "    </tr>\n",
              "  </tbody>\n",
              "</table>\n",
              "</div>"
            ],
            "text/plain": [
              "    GROUP_ID  ELEMENT  VALUES  THRESHOLD\n",
              "51         6       52      13         30\n",
              "68         6       69       1         30\n",
              "56         6       57      30         30\n",
              "89         6       90       9         30\n",
              "0          6        1       6         30"
            ]
          },
          "metadata": {
            "tags": []
          },
          "execution_count": 44
        }
      ]
    },
    {
      "metadata": {
        "id": "p8W7baNTnDr9",
        "colab_type": "code",
        "colab": {
          "base_uri": "https://localhost:8080/",
          "height": 158
        },
        "outputId": "12a04b8d-35e1-4ebb-a205-21d180c1895e"
      },
      "cell_type": "code",
      "source": [
        "tab3.groupby('GROUP_ID')['VALUES'].quantile(0.3)"
      ],
      "execution_count": 48,
      "outputs": [
        {
          "output_type": "execute_result",
          "data": {
            "text/plain": [
              "GROUP_ID\n",
              "1    16.9\n",
              "2    13.3\n",
              "3    12.0\n",
              "4    12.6\n",
              "5    13.5\n",
              "6     9.0\n",
              "Name: VALUES, dtype: float64"
            ]
          },
          "metadata": {
            "tags": []
          },
          "execution_count": 48
        }
      ]
    },
    {
      "metadata": {
        "id": "NMeWcc9HnDnU",
        "colab_type": "code",
        "colab": {
          "base_uri": "https://localhost:8080/",
          "height": 1981
        },
        "outputId": "5da182f3-ab4e-4b36-c1e4-eb8cc9b45fb3"
      },
      "cell_type": "code",
      "source": [
        "tab3.groupby('GROUP_ID')['VALUES'].quantile(tab3['THRESHOLD'][1])"
      ],
      "execution_count": 50,
      "outputs": [
        {
          "output_type": "error",
          "ename": "ValueError",
          "evalue": "ignored",
          "traceback": [
            "\u001b[0;31m---------------------------------------------------------------------------\u001b[0m",
            "\u001b[0;31mTypeError\u001b[0m                                 Traceback (most recent call last)",
            "\u001b[0;32m/usr/local/lib/python3.6/dist-packages/pandas/core/groupby.py\u001b[0m in \u001b[0;36mwrapper\u001b[0;34m(*args, **kwargs)\u001b[0m\n\u001b[1;32m    722\u001b[0m             \u001b[0;32mtry\u001b[0m\u001b[0;34m:\u001b[0m\u001b[0;34m\u001b[0m\u001b[0;34m\u001b[0m\u001b[0m\n\u001b[0;32m--> 723\u001b[0;31m                 \u001b[0;32mreturn\u001b[0m \u001b[0mself\u001b[0m\u001b[0;34m.\u001b[0m\u001b[0mapply\u001b[0m\u001b[0;34m(\u001b[0m\u001b[0mcurried_with_axis\u001b[0m\u001b[0;34m)\u001b[0m\u001b[0;34m\u001b[0m\u001b[0;34m\u001b[0m\u001b[0m\n\u001b[0m\u001b[1;32m    724\u001b[0m             \u001b[0;32mexcept\u001b[0m \u001b[0mException\u001b[0m\u001b[0;34m:\u001b[0m\u001b[0;34m\u001b[0m\u001b[0;34m\u001b[0m\u001b[0m\n",
            "\u001b[0;32m/usr/local/lib/python3.6/dist-packages/pandas/core/groupby.py\u001b[0m in \u001b[0;36mapply\u001b[0;34m(self, func, *args, **kwargs)\u001b[0m\n\u001b[1;32m   3111\u001b[0m     \u001b[0;32mdef\u001b[0m \u001b[0mapply\u001b[0m\u001b[0;34m(\u001b[0m\u001b[0mself\u001b[0m\u001b[0;34m,\u001b[0m \u001b[0mfunc\u001b[0m\u001b[0;34m,\u001b[0m \u001b[0;34m*\u001b[0m\u001b[0margs\u001b[0m\u001b[0;34m,\u001b[0m \u001b[0;34m**\u001b[0m\u001b[0mkwargs\u001b[0m\u001b[0;34m)\u001b[0m\u001b[0;34m:\u001b[0m\u001b[0;34m\u001b[0m\u001b[0;34m\u001b[0m\u001b[0m\n\u001b[0;32m-> 3112\u001b[0;31m         \u001b[0;32mreturn\u001b[0m \u001b[0msuper\u001b[0m\u001b[0;34m(\u001b[0m\u001b[0mSeriesGroupBy\u001b[0m\u001b[0;34m,\u001b[0m \u001b[0mself\u001b[0m\u001b[0;34m)\u001b[0m\u001b[0;34m.\u001b[0m\u001b[0mapply\u001b[0m\u001b[0;34m(\u001b[0m\u001b[0mfunc\u001b[0m\u001b[0;34m,\u001b[0m \u001b[0;34m*\u001b[0m\u001b[0margs\u001b[0m\u001b[0;34m,\u001b[0m \u001b[0;34m**\u001b[0m\u001b[0mkwargs\u001b[0m\u001b[0;34m)\u001b[0m\u001b[0;34m\u001b[0m\u001b[0;34m\u001b[0m\u001b[0m\n\u001b[0m\u001b[1;32m   3113\u001b[0m \u001b[0;34m\u001b[0m\u001b[0m\n",
            "\u001b[0;32m/usr/local/lib/python3.6/dist-packages/pandas/core/groupby.py\u001b[0m in \u001b[0;36mapply\u001b[0;34m(self, func, *args, **kwargs)\u001b[0m\n\u001b[1;32m    804\u001b[0m         \u001b[0;32mwith\u001b[0m \u001b[0moption_context\u001b[0m\u001b[0;34m(\u001b[0m\u001b[0;34m'mode.chained_assignment'\u001b[0m\u001b[0;34m,\u001b[0m \u001b[0;32mNone\u001b[0m\u001b[0;34m)\u001b[0m\u001b[0;34m:\u001b[0m\u001b[0;34m\u001b[0m\u001b[0;34m\u001b[0m\u001b[0m\n\u001b[0;32m--> 805\u001b[0;31m             \u001b[0;32mreturn\u001b[0m \u001b[0mself\u001b[0m\u001b[0;34m.\u001b[0m\u001b[0m_python_apply_general\u001b[0m\u001b[0;34m(\u001b[0m\u001b[0mf\u001b[0m\u001b[0;34m)\u001b[0m\u001b[0;34m\u001b[0m\u001b[0;34m\u001b[0m\u001b[0m\n\u001b[0m\u001b[1;32m    806\u001b[0m \u001b[0;34m\u001b[0m\u001b[0m\n",
            "\u001b[0;32m/usr/local/lib/python3.6/dist-packages/pandas/core/groupby.py\u001b[0m in \u001b[0;36m_python_apply_general\u001b[0;34m(self, f)\u001b[0m\n\u001b[1;32m    808\u001b[0m         keys, values, mutated = self.grouper.apply(f, self._selected_obj,\n\u001b[0;32m--> 809\u001b[0;31m                                                    self.axis)\n\u001b[0m\u001b[1;32m    810\u001b[0m \u001b[0;34m\u001b[0m\u001b[0m\n",
            "\u001b[0;32m/usr/local/lib/python3.6/dist-packages/pandas/core/groupby.py\u001b[0m in \u001b[0;36mapply\u001b[0;34m(self, f, data, axis)\u001b[0m\n\u001b[1;32m   1968\u001b[0m             \u001b[0mgroup_axes\u001b[0m \u001b[0;34m=\u001b[0m \u001b[0m_get_axes\u001b[0m\u001b[0;34m(\u001b[0m\u001b[0mgroup\u001b[0m\u001b[0;34m)\u001b[0m\u001b[0;34m\u001b[0m\u001b[0;34m\u001b[0m\u001b[0m\n\u001b[0;32m-> 1969\u001b[0;31m             \u001b[0mres\u001b[0m \u001b[0;34m=\u001b[0m \u001b[0mf\u001b[0m\u001b[0;34m(\u001b[0m\u001b[0mgroup\u001b[0m\u001b[0;34m)\u001b[0m\u001b[0;34m\u001b[0m\u001b[0;34m\u001b[0m\u001b[0m\n\u001b[0m\u001b[1;32m   1970\u001b[0m             \u001b[0;32mif\u001b[0m \u001b[0;32mnot\u001b[0m \u001b[0m_is_indexed_like\u001b[0m\u001b[0;34m(\u001b[0m\u001b[0mres\u001b[0m\u001b[0;34m,\u001b[0m \u001b[0mgroup_axes\u001b[0m\u001b[0;34m)\u001b[0m\u001b[0;34m:\u001b[0m\u001b[0;34m\u001b[0m\u001b[0;34m\u001b[0m\u001b[0m\n",
            "\u001b[0;32m/usr/local/lib/python3.6/dist-packages/pandas/core/groupby.py\u001b[0m in \u001b[0;36mcurried_with_axis\u001b[0;34m(x)\u001b[0m\n\u001b[1;32m    707\u001b[0m             \u001b[0;32mdef\u001b[0m \u001b[0mcurried_with_axis\u001b[0m\u001b[0;34m(\u001b[0m\u001b[0mx\u001b[0m\u001b[0;34m)\u001b[0m\u001b[0;34m:\u001b[0m\u001b[0;34m\u001b[0m\u001b[0;34m\u001b[0m\u001b[0m\n\u001b[0;32m--> 708\u001b[0;31m                 \u001b[0;32mreturn\u001b[0m \u001b[0mf\u001b[0m\u001b[0;34m(\u001b[0m\u001b[0mx\u001b[0m\u001b[0;34m,\u001b[0m \u001b[0;34m*\u001b[0m\u001b[0margs\u001b[0m\u001b[0;34m,\u001b[0m \u001b[0;34m**\u001b[0m\u001b[0mkwargs_with_axis\u001b[0m\u001b[0;34m)\u001b[0m\u001b[0;34m\u001b[0m\u001b[0;34m\u001b[0m\u001b[0m\n\u001b[0m\u001b[1;32m    709\u001b[0m \u001b[0;34m\u001b[0m\u001b[0m\n",
            "\u001b[0;31mTypeError\u001b[0m: quantile() got an unexpected keyword argument 'axis'",
            "\nDuring handling of the above exception, another exception occurred:\n",
            "\u001b[0;31mValueError\u001b[0m                                Traceback (most recent call last)",
            "\u001b[0;32m/usr/local/lib/python3.6/dist-packages/pandas/core/groupby.py\u001b[0m in \u001b[0;36mwrapper\u001b[0;34m(*args, **kwargs)\u001b[0m\n\u001b[1;32m    725\u001b[0m                 \u001b[0;32mtry\u001b[0m\u001b[0;34m:\u001b[0m\u001b[0;34m\u001b[0m\u001b[0;34m\u001b[0m\u001b[0m\n\u001b[0;32m--> 726\u001b[0;31m                     \u001b[0;32mreturn\u001b[0m \u001b[0mself\u001b[0m\u001b[0;34m.\u001b[0m\u001b[0mapply\u001b[0m\u001b[0;34m(\u001b[0m\u001b[0mcurried\u001b[0m\u001b[0;34m)\u001b[0m\u001b[0;34m\u001b[0m\u001b[0;34m\u001b[0m\u001b[0m\n\u001b[0m\u001b[1;32m    727\u001b[0m                 \u001b[0;32mexcept\u001b[0m \u001b[0mException\u001b[0m\u001b[0;34m:\u001b[0m\u001b[0;34m\u001b[0m\u001b[0;34m\u001b[0m\u001b[0m\n",
            "\u001b[0;32m/usr/local/lib/python3.6/dist-packages/pandas/core/groupby.py\u001b[0m in \u001b[0;36mapply\u001b[0;34m(self, func, *args, **kwargs)\u001b[0m\n\u001b[1;32m   3111\u001b[0m     \u001b[0;32mdef\u001b[0m \u001b[0mapply\u001b[0m\u001b[0;34m(\u001b[0m\u001b[0mself\u001b[0m\u001b[0;34m,\u001b[0m \u001b[0mfunc\u001b[0m\u001b[0;34m,\u001b[0m \u001b[0;34m*\u001b[0m\u001b[0margs\u001b[0m\u001b[0;34m,\u001b[0m \u001b[0;34m**\u001b[0m\u001b[0mkwargs\u001b[0m\u001b[0;34m)\u001b[0m\u001b[0;34m:\u001b[0m\u001b[0;34m\u001b[0m\u001b[0;34m\u001b[0m\u001b[0m\n\u001b[0;32m-> 3112\u001b[0;31m         \u001b[0;32mreturn\u001b[0m \u001b[0msuper\u001b[0m\u001b[0;34m(\u001b[0m\u001b[0mSeriesGroupBy\u001b[0m\u001b[0;34m,\u001b[0m \u001b[0mself\u001b[0m\u001b[0;34m)\u001b[0m\u001b[0;34m.\u001b[0m\u001b[0mapply\u001b[0m\u001b[0;34m(\u001b[0m\u001b[0mfunc\u001b[0m\u001b[0;34m,\u001b[0m \u001b[0;34m*\u001b[0m\u001b[0margs\u001b[0m\u001b[0;34m,\u001b[0m \u001b[0;34m**\u001b[0m\u001b[0mkwargs\u001b[0m\u001b[0;34m)\u001b[0m\u001b[0;34m\u001b[0m\u001b[0;34m\u001b[0m\u001b[0m\n\u001b[0m\u001b[1;32m   3113\u001b[0m \u001b[0;34m\u001b[0m\u001b[0m\n",
            "\u001b[0;32m/usr/local/lib/python3.6/dist-packages/pandas/core/groupby.py\u001b[0m in \u001b[0;36mapply\u001b[0;34m(self, func, *args, **kwargs)\u001b[0m\n\u001b[1;32m    804\u001b[0m         \u001b[0;32mwith\u001b[0m \u001b[0moption_context\u001b[0m\u001b[0;34m(\u001b[0m\u001b[0;34m'mode.chained_assignment'\u001b[0m\u001b[0;34m,\u001b[0m \u001b[0;32mNone\u001b[0m\u001b[0;34m)\u001b[0m\u001b[0;34m:\u001b[0m\u001b[0;34m\u001b[0m\u001b[0;34m\u001b[0m\u001b[0m\n\u001b[0;32m--> 805\u001b[0;31m             \u001b[0;32mreturn\u001b[0m \u001b[0mself\u001b[0m\u001b[0;34m.\u001b[0m\u001b[0m_python_apply_general\u001b[0m\u001b[0;34m(\u001b[0m\u001b[0mf\u001b[0m\u001b[0;34m)\u001b[0m\u001b[0;34m\u001b[0m\u001b[0;34m\u001b[0m\u001b[0m\n\u001b[0m\u001b[1;32m    806\u001b[0m \u001b[0;34m\u001b[0m\u001b[0m\n",
            "\u001b[0;32m/usr/local/lib/python3.6/dist-packages/pandas/core/groupby.py\u001b[0m in \u001b[0;36m_python_apply_general\u001b[0;34m(self, f)\u001b[0m\n\u001b[1;32m    808\u001b[0m         keys, values, mutated = self.grouper.apply(f, self._selected_obj,\n\u001b[0;32m--> 809\u001b[0;31m                                                    self.axis)\n\u001b[0m\u001b[1;32m    810\u001b[0m \u001b[0;34m\u001b[0m\u001b[0m\n",
            "\u001b[0;32m/usr/local/lib/python3.6/dist-packages/pandas/core/groupby.py\u001b[0m in \u001b[0;36mapply\u001b[0;34m(self, f, data, axis)\u001b[0m\n\u001b[1;32m   1968\u001b[0m             \u001b[0mgroup_axes\u001b[0m \u001b[0;34m=\u001b[0m \u001b[0m_get_axes\u001b[0m\u001b[0;34m(\u001b[0m\u001b[0mgroup\u001b[0m\u001b[0;34m)\u001b[0m\u001b[0;34m\u001b[0m\u001b[0;34m\u001b[0m\u001b[0m\n\u001b[0;32m-> 1969\u001b[0;31m             \u001b[0mres\u001b[0m \u001b[0;34m=\u001b[0m \u001b[0mf\u001b[0m\u001b[0;34m(\u001b[0m\u001b[0mgroup\u001b[0m\u001b[0;34m)\u001b[0m\u001b[0;34m\u001b[0m\u001b[0;34m\u001b[0m\u001b[0m\n\u001b[0m\u001b[1;32m   1970\u001b[0m             \u001b[0;32mif\u001b[0m \u001b[0;32mnot\u001b[0m \u001b[0m_is_indexed_like\u001b[0m\u001b[0;34m(\u001b[0m\u001b[0mres\u001b[0m\u001b[0;34m,\u001b[0m \u001b[0mgroup_axes\u001b[0m\u001b[0;34m)\u001b[0m\u001b[0;34m:\u001b[0m\u001b[0;34m\u001b[0m\u001b[0;34m\u001b[0m\u001b[0m\n",
            "\u001b[0;32m/usr/local/lib/python3.6/dist-packages/pandas/core/groupby.py\u001b[0m in \u001b[0;36mcurried\u001b[0;34m(x)\u001b[0m\n\u001b[1;32m    710\u001b[0m             \u001b[0;32mdef\u001b[0m \u001b[0mcurried\u001b[0m\u001b[0;34m(\u001b[0m\u001b[0mx\u001b[0m\u001b[0;34m)\u001b[0m\u001b[0;34m:\u001b[0m\u001b[0;34m\u001b[0m\u001b[0;34m\u001b[0m\u001b[0m\n\u001b[0;32m--> 711\u001b[0;31m                 \u001b[0;32mreturn\u001b[0m \u001b[0mf\u001b[0m\u001b[0;34m(\u001b[0m\u001b[0mx\u001b[0m\u001b[0;34m,\u001b[0m \u001b[0;34m*\u001b[0m\u001b[0margs\u001b[0m\u001b[0;34m,\u001b[0m \u001b[0;34m**\u001b[0m\u001b[0mkwargs\u001b[0m\u001b[0;34m)\u001b[0m\u001b[0;34m\u001b[0m\u001b[0;34m\u001b[0m\u001b[0m\n\u001b[0m\u001b[1;32m    712\u001b[0m \u001b[0;34m\u001b[0m\u001b[0m\n",
            "\u001b[0;32m/usr/local/lib/python3.6/dist-packages/pandas/core/series.py\u001b[0m in \u001b[0;36mquantile\u001b[0;34m(self, q, interpolation)\u001b[0m\n\u001b[1;32m   1454\u001b[0m \u001b[0;34m\u001b[0m\u001b[0m\n\u001b[0;32m-> 1455\u001b[0;31m         \u001b[0mself\u001b[0m\u001b[0;34m.\u001b[0m\u001b[0m_check_percentile\u001b[0m\u001b[0;34m(\u001b[0m\u001b[0mq\u001b[0m\u001b[0;34m)\u001b[0m\u001b[0;34m\u001b[0m\u001b[0;34m\u001b[0m\u001b[0m\n\u001b[0m\u001b[1;32m   1456\u001b[0m \u001b[0;34m\u001b[0m\u001b[0m\n",
            "\u001b[0;32m/usr/local/lib/python3.6/dist-packages/pandas/core/generic.py\u001b[0m in \u001b[0;36m_check_percentile\u001b[0;34m(self, q)\u001b[0m\n\u001b[1;32m   6847\u001b[0m             \u001b[0;32mif\u001b[0m \u001b[0;32mnot\u001b[0m \u001b[0;36m0\u001b[0m \u001b[0;34m<=\u001b[0m \u001b[0mq\u001b[0m \u001b[0;34m<=\u001b[0m \u001b[0;36m1\u001b[0m\u001b[0;34m:\u001b[0m\u001b[0;34m\u001b[0m\u001b[0;34m\u001b[0m\u001b[0m\n\u001b[0;32m-> 6848\u001b[0;31m                 \u001b[0;32mraise\u001b[0m \u001b[0mValueError\u001b[0m\u001b[0;34m(\u001b[0m\u001b[0mmsg\u001b[0m\u001b[0;34m.\u001b[0m\u001b[0mformat\u001b[0m\u001b[0;34m(\u001b[0m\u001b[0mq\u001b[0m \u001b[0;34m/\u001b[0m \u001b[0;36m100.0\u001b[0m\u001b[0;34m)\u001b[0m\u001b[0;34m)\u001b[0m\u001b[0;34m\u001b[0m\u001b[0;34m\u001b[0m\u001b[0m\n\u001b[0m\u001b[1;32m   6849\u001b[0m         \u001b[0;32melse\u001b[0m\u001b[0;34m:\u001b[0m\u001b[0;34m\u001b[0m\u001b[0;34m\u001b[0m\u001b[0m\n",
            "\u001b[0;31mValueError\u001b[0m: percentiles should all be in the interval [0, 1]. Try 0.15 instead.",
            "\nDuring handling of the above exception, another exception occurred:\n",
            "\u001b[0;31mAttributeError\u001b[0m                            Traceback (most recent call last)",
            "\u001b[0;32m/usr/local/lib/python3.6/dist-packages/pandas/core/groupby.py\u001b[0m in \u001b[0;36mwrapper\u001b[0;34m(*args, **kwargs)\u001b[0m\n\u001b[1;32m    735\u001b[0m                     \u001b[0;32mtry\u001b[0m\u001b[0;34m:\u001b[0m\u001b[0;34m\u001b[0m\u001b[0;34m\u001b[0m\u001b[0m\n\u001b[0;32m--> 736\u001b[0;31m                         return self._aggregate_item_by_item(name,\n\u001b[0m\u001b[1;32m    737\u001b[0m                                                             *args, **kwargs)\n",
            "\u001b[0;32m/usr/local/lib/python3.6/dist-packages/pandas/core/groupby.py\u001b[0m in \u001b[0;36m__getattr__\u001b[0;34m(self, attr)\u001b[0m\n\u001b[1;32m    675\u001b[0m         raise AttributeError(\"%r object has no attribute %r\" %\n\u001b[0;32m--> 676\u001b[0;31m                              (type(self).__name__, attr))\n\u001b[0m\u001b[1;32m    677\u001b[0m \u001b[0;34m\u001b[0m\u001b[0m\n",
            "\u001b[0;31mAttributeError\u001b[0m: 'SeriesGroupBy' object has no attribute '_aggregate_item_by_item'",
            "\nDuring handling of the above exception, another exception occurred:\n",
            "\u001b[0;31mValueError\u001b[0m                                Traceback (most recent call last)",
            "\u001b[0;32m<ipython-input-50-442a67244e15>\u001b[0m in \u001b[0;36m<module>\u001b[0;34m()\u001b[0m\n\u001b[0;32m----> 1\u001b[0;31m \u001b[0mtab3\u001b[0m\u001b[0;34m.\u001b[0m\u001b[0mgroupby\u001b[0m\u001b[0;34m(\u001b[0m\u001b[0;34m'GROUP_ID'\u001b[0m\u001b[0;34m)\u001b[0m\u001b[0;34m[\u001b[0m\u001b[0;34m'VALUES'\u001b[0m\u001b[0;34m]\u001b[0m\u001b[0;34m.\u001b[0m\u001b[0mquantile\u001b[0m\u001b[0;34m(\u001b[0m\u001b[0mtab3\u001b[0m\u001b[0;34m[\u001b[0m\u001b[0;34m'THRESHOLD'\u001b[0m\u001b[0;34m]\u001b[0m\u001b[0;34m[\u001b[0m\u001b[0;36m1\u001b[0m\u001b[0;34m]\u001b[0m\u001b[0;34m)\u001b[0m\u001b[0;34m\u001b[0m\u001b[0;34m\u001b[0m\u001b[0m\n\u001b[0m",
            "\u001b[0;32m/usr/local/lib/python3.6/dist-packages/pandas/core/groupby.py\u001b[0m in \u001b[0;36mwrapper\u001b[0;34m(*args, **kwargs)\u001b[0m\n\u001b[1;32m    737\u001b[0m                                                             *args, **kwargs)\n\u001b[1;32m    738\u001b[0m                     \u001b[0;32mexcept\u001b[0m \u001b[0;34m(\u001b[0m\u001b[0mAttributeError\u001b[0m\u001b[0;34m)\u001b[0m\u001b[0;34m:\u001b[0m\u001b[0;34m\u001b[0m\u001b[0;34m\u001b[0m\u001b[0m\n\u001b[0;32m--> 739\u001b[0;31m                         \u001b[0;32mraise\u001b[0m \u001b[0mValueError\u001b[0m\u001b[0;34m\u001b[0m\u001b[0;34m\u001b[0m\u001b[0m\n\u001b[0m\u001b[1;32m    740\u001b[0m \u001b[0;34m\u001b[0m\u001b[0m\n\u001b[1;32m    741\u001b[0m         \u001b[0;32mreturn\u001b[0m \u001b[0mwrapper\u001b[0m\u001b[0;34m\u001b[0m\u001b[0;34m\u001b[0m\u001b[0m\n",
            "\u001b[0;31mValueError\u001b[0m: "
          ]
        }
      ]
    },
    {
      "metadata": {
        "id": "Cz_fbnH3mhtf",
        "colab_type": "code",
        "colab": {}
      },
      "cell_type": "code",
      "source": [
        ""
      ],
      "execution_count": 0,
      "outputs": []
    },
    {
      "metadata": {
        "id": "DbMIgGzIjjNd",
        "colab_type": "code",
        "colab": {}
      },
      "cell_type": "code",
      "source": [
        ""
      ],
      "execution_count": 0,
      "outputs": []
    }
  ]
}